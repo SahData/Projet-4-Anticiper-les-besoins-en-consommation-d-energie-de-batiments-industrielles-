{
 "cells": [
  {
   "cell_type": "markdown",
   "metadata": {},
   "source": [
    "### <span style='color:blue '> Modélisation </span>"
   ]
  },
  {
   "cell_type": "markdown",
   "metadata": {},
   "source": [
    "### Les Librairies:"
   ]
  },
  {
   "cell_type": "code",
   "execution_count": 88,
   "metadata": {},
   "outputs": [],
   "source": [
    "import pandas as pd\n",
    "import numpy as np\n",
    "import matplotlib.pyplot as plt\n",
    "import matplotlib.gridspec as gridspec\n",
    "import seaborn as sns\n",
    "from scipy import stats\n",
    "import joblib"
   ]
  },
  {
   "cell_type": "markdown",
   "metadata": {},
   "source": [
    "### Récupération des données"
   ]
  },
  {
   "cell_type": "code",
   "execution_count": 89,
   "metadata": {},
   "outputs": [],
   "source": [
    "data_clean =pd.read_csv(\"data_cleaned.csv\")"
   ]
  },
  {
   "cell_type": "code",
   "execution_count": 90,
   "metadata": {},
   "outputs": [
    {
     "data": {
      "text/plain": [
       "(1559, 14)"
      ]
     },
     "execution_count": 90,
     "metadata": {},
     "output_type": "execute_result"
    }
   ],
   "source": [
    "data_clean.shape"
   ]
  },
  {
   "cell_type": "code",
   "execution_count": 91,
   "metadata": {},
   "outputs": [
    {
     "data": {
      "text/html": [
       "<div>\n",
       "<style scoped>\n",
       "    .dataframe tbody tr th:only-of-type {\n",
       "        vertical-align: middle;\n",
       "    }\n",
       "\n",
       "    .dataframe tbody tr th {\n",
       "        vertical-align: top;\n",
       "    }\n",
       "\n",
       "    .dataframe thead th {\n",
       "        text-align: right;\n",
       "    }\n",
       "</style>\n",
       "<table border=\"1\" class=\"dataframe\">\n",
       "  <thead>\n",
       "    <tr style=\"text-align: right;\">\n",
       "      <th></th>\n",
       "      <th>OSEBuildingID</th>\n",
       "      <th>BuildingType</th>\n",
       "      <th>PrimaryPropertyType</th>\n",
       "      <th>NumberofBuildings</th>\n",
       "      <th>NumberofFloors</th>\n",
       "      <th>PropertyGFABuilding(s)</th>\n",
       "      <th>LargestPropertyUseType</th>\n",
       "      <th>ENERGYSTARScore</th>\n",
       "      <th>SiteEnergyUse(kBtu)</th>\n",
       "      <th>TotalGHGEmissions</th>\n",
       "      <th>Latitude</th>\n",
       "      <th>Longitude</th>\n",
       "      <th>BuildingAge</th>\n",
       "      <th>PropertyGFAParkingbool</th>\n",
       "    </tr>\n",
       "  </thead>\n",
       "  <tbody>\n",
       "    <tr>\n",
       "      <th>0</th>\n",
       "      <td>400</td>\n",
       "      <td>NonResidential</td>\n",
       "      <td>Office</td>\n",
       "      <td>1.0</td>\n",
       "      <td>6.0</td>\n",
       "      <td>72450.0</td>\n",
       "      <td>Office</td>\n",
       "      <td>45.0</td>\n",
       "      <td>15.691288</td>\n",
       "      <td>3.876189</td>\n",
       "      <td>47.606799</td>\n",
       "      <td>-122.337100</td>\n",
       "      <td>115</td>\n",
       "      <td>1.0</td>\n",
       "    </tr>\n",
       "    <tr>\n",
       "      <th>1</th>\n",
       "      <td>442</td>\n",
       "      <td>NonResidential</td>\n",
       "      <td>Office</td>\n",
       "      <td>1.0</td>\n",
       "      <td>4.0</td>\n",
       "      <td>155934.0</td>\n",
       "      <td>Office</td>\n",
       "      <td>59.0</td>\n",
       "      <td>16.634519</td>\n",
       "      <td>4.769328</td>\n",
       "      <td>47.621476</td>\n",
       "      <td>-122.343050</td>\n",
       "      <td>74</td>\n",
       "      <td>1.0</td>\n",
       "    </tr>\n",
       "    <tr>\n",
       "      <th>2</th>\n",
       "      <td>499</td>\n",
       "      <td>NonResidential</td>\n",
       "      <td>Office</td>\n",
       "      <td>1.0</td>\n",
       "      <td>3.0</td>\n",
       "      <td>55188.0</td>\n",
       "      <td>Office</td>\n",
       "      <td>76.0</td>\n",
       "      <td>15.314463</td>\n",
       "      <td>4.910373</td>\n",
       "      <td>47.570897</td>\n",
       "      <td>-122.297412</td>\n",
       "      <td>13</td>\n",
       "      <td>1.0</td>\n",
       "    </tr>\n",
       "    <tr>\n",
       "      <th>3</th>\n",
       "      <td>559</td>\n",
       "      <td>NonResidential</td>\n",
       "      <td>Office</td>\n",
       "      <td>1.0</td>\n",
       "      <td>4.0</td>\n",
       "      <td>186971.0</td>\n",
       "      <td>Office</td>\n",
       "      <td>86.0</td>\n",
       "      <td>16.354152</td>\n",
       "      <td>5.428995</td>\n",
       "      <td>47.621243</td>\n",
       "      <td>-122.329786</td>\n",
       "      <td>40</td>\n",
       "      <td>0.0</td>\n",
       "    </tr>\n",
       "    <tr>\n",
       "      <th>4</th>\n",
       "      <td>714</td>\n",
       "      <td>NonResidential</td>\n",
       "      <td>Office</td>\n",
       "      <td>1.0</td>\n",
       "      <td>5.0</td>\n",
       "      <td>160800.0</td>\n",
       "      <td>Office</td>\n",
       "      <td>95.0</td>\n",
       "      <td>15.713124</td>\n",
       "      <td>5.568115</td>\n",
       "      <td>47.603730</td>\n",
       "      <td>-122.337367</td>\n",
       "      <td>110</td>\n",
       "      <td>1.0</td>\n",
       "    </tr>\n",
       "  </tbody>\n",
       "</table>\n",
       "</div>"
      ],
      "text/plain": [
       "   OSEBuildingID    BuildingType PrimaryPropertyType  NumberofBuildings  \\\n",
       "0            400  NonResidential              Office                1.0   \n",
       "1            442  NonResidential              Office                1.0   \n",
       "2            499  NonResidential              Office                1.0   \n",
       "3            559  NonResidential              Office                1.0   \n",
       "4            714  NonResidential              Office                1.0   \n",
       "\n",
       "   NumberofFloors  PropertyGFABuilding(s) LargestPropertyUseType  \\\n",
       "0             6.0                 72450.0                 Office   \n",
       "1             4.0                155934.0                 Office   \n",
       "2             3.0                 55188.0                 Office   \n",
       "3             4.0                186971.0                 Office   \n",
       "4             5.0                160800.0                 Office   \n",
       "\n",
       "   ENERGYSTARScore  SiteEnergyUse(kBtu)  TotalGHGEmissions   Latitude  \\\n",
       "0             45.0            15.691288           3.876189  47.606799   \n",
       "1             59.0            16.634519           4.769328  47.621476   \n",
       "2             76.0            15.314463           4.910373  47.570897   \n",
       "3             86.0            16.354152           5.428995  47.621243   \n",
       "4             95.0            15.713124           5.568115  47.603730   \n",
       "\n",
       "    Longitude  BuildingAge  PropertyGFAParkingbool  \n",
       "0 -122.337100          115                     1.0  \n",
       "1 -122.343050           74                     1.0  \n",
       "2 -122.297412           13                     1.0  \n",
       "3 -122.329786           40                     0.0  \n",
       "4 -122.337367          110                     1.0  "
      ]
     },
     "execution_count": 91,
     "metadata": {},
     "output_type": "execute_result"
    }
   ],
   "source": [
    "data_clean.head()"
   ]
  },
  {
   "cell_type": "markdown",
   "metadata": {},
   "source": [
    "\n",
    "#### <span style='color:blue '> 1.Prétraitement </span>"
   ]
  },
  {
   "cell_type": "markdown",
   "metadata": {},
   "source": [
    "'OSEBuildingID' ne nous sera pas utile, nous la supprimerons du jeu de données."
   ]
  },
  {
   "cell_type": "code",
   "execution_count": 92,
   "metadata": {},
   "outputs": [],
   "source": [
    "data_clean=data_clean.drop(['OSEBuildingID'], axis=1)"
   ]
  },
  {
   "cell_type": "markdown",
   "metadata": {},
   "source": [
    "#### <span style='color:green'>1.1.sauvegarde séparée du energy star score</span>"
   ]
  },
  {
   "cell_type": "markdown",
   "metadata": {},
   "source": [
    "- 'ENERGYSTARScore': Nous allons l'écarter du dataset pour vérifier si cette variable a un impact sur la qualité de prédiction."
   ]
  },
  {
   "cell_type": "code",
   "execution_count": 93,
   "metadata": {},
   "outputs": [],
   "source": [
    "energy_star_score = data_clean['ENERGYSTARScore']\n",
    "data_clean.drop('ENERGYSTARScore', axis=1, inplace=True)"
   ]
  },
  {
   "cell_type": "markdown",
   "metadata": {},
   "source": [
    "#### <span style='color:green'>1.2.Séparation des variables explicatives (features) et des étiquettes (targets) </span>\n",
    "Nous cherchons à élaborer un modèle de prédiction des émissions de CO2 et de la consommation totale d'énergie à partir d'un jeu de données.\n"
   ]
  },
  {
   "cell_type": "markdown",
   "metadata": {},
   "source": [
    "#### Les variables cibles :\n",
    "\n",
    "- 'TotalGHGEmissions': The total amount of greenhouse gas emissions, including carbon dioxide, methane, and nitrous oxide gases released into the atmosphere as a result of energy consumption at the property, measured in metric tons of carbon dioxide equivalent.\n",
    "- 'SiteEnergyUse(kBtu)': The annual amount of energy consumed by the property from all sources of energy."
   ]
  },
  {
   "cell_type": "markdown",
   "metadata": {},
   "source": [
    "#### Préparation des jeux d'entrainement et de test"
   ]
  },
  {
   "cell_type": "code",
   "execution_count": 94,
   "metadata": {},
   "outputs": [],
   "source": [
    "# Features : toutes les colonnes, sauf les cibles et \"ENERGYSTARScore\" pour évaluation finale\n",
    "X = data_clean.drop(['SiteEnergyUse(kBtu)','TotalGHGEmissions'], axis=1)\n",
    "\n",
    "y = data_clean[['SiteEnergyUse(kBtu)','TotalGHGEmissions']]"
   ]
  },
  {
   "cell_type": "code",
   "execution_count": 95,
   "metadata": {},
   "outputs": [
    {
     "data": {
      "text/plain": [
       "(1559, 10)"
      ]
     },
     "execution_count": 95,
     "metadata": {},
     "output_type": "execute_result"
    }
   ],
   "source": [
    "X.shape"
   ]
  },
  {
   "cell_type": "code",
   "execution_count": 96,
   "metadata": {},
   "outputs": [
    {
     "data": {
      "text/plain": [
       "(1559, 2)"
      ]
     },
     "execution_count": 96,
     "metadata": {},
     "output_type": "execute_result"
    }
   ],
   "source": [
    "y.shape"
   ]
  },
  {
   "cell_type": "markdown",
   "metadata": {},
   "source": [
    "#### <span style='color:green'>1.2. Préparation des données numériques et catégoriques</span>"
   ]
  },
  {
   "cell_type": "markdown",
   "metadata": {},
   "source": [
    "Les variables numériques doivent être standardisées et les variables catégoriques doivent être transformées en numérique"
   ]
  },
  {
   "cell_type": "markdown",
   "metadata": {},
   "source": [
    "D’abord nous les séparons: "
   ]
  },
  {
   "cell_type": "markdown",
   "metadata": {},
   "source": [
    "#### <span style='color:orange'> 1.2.1. Les variables numériques </span>"
   ]
  },
  {
   "cell_type": "code",
   "execution_count": 97,
   "metadata": {},
   "outputs": [],
   "source": [
    "from sklearn.preprocessing import OneHotEncoder, StandardScaler"
   ]
  },
  {
   "cell_type": "code",
   "execution_count": 98,
   "metadata": {},
   "outputs": [],
   "source": [
    "numeric_columns = X.select_dtypes(include = ['int64','float64']).columns"
   ]
  },
  {
   "cell_type": "code",
   "execution_count": 99,
   "metadata": {},
   "outputs": [
    {
     "data": {
      "text/plain": [
       "Index(['NumberofBuildings', 'NumberofFloors', 'PropertyGFABuilding(s)',\n",
       "       'Latitude', 'Longitude', 'BuildingAge', 'PropertyGFAParkingbool'],\n",
       "      dtype='object')"
      ]
     },
     "execution_count": 99,
     "metadata": {},
     "output_type": "execute_result"
    }
   ],
   "source": [
    "numeric_columns"
   ]
  },
  {
   "cell_type": "markdown",
   "metadata": {},
   "source": [
    "#### <span style='color:darkviolet'>Standardisation des variables numériques </span>"
   ]
  },
  {
   "cell_type": "code",
   "execution_count": 100,
   "metadata": {},
   "outputs": [],
   "source": [
    "list_to_scale = numeric_columns.drop(['PropertyGFAParkingbool'])"
   ]
  },
  {
   "cell_type": "code",
   "execution_count": 101,
   "metadata": {},
   "outputs": [],
   "source": [
    "ss = StandardScaler()\n",
    "X[list_to_scale] = ss.fit_transform(X[list_to_scale])"
   ]
  },
  {
   "cell_type": "code",
   "execution_count": 13,
   "metadata": {
    "tags": []
   },
   "outputs": [],
   "source": [
    "scaled_features = X.copy()"
   ]
  },
  {
   "cell_type": "code",
   "execution_count": 14,
   "metadata": {
    "tags": []
   },
   "outputs": [],
   "source": [
    "scaler = StandardScaler()\n",
    "X[numeric_columns] = scaler.fit_transform(X[numeric_columns])"
   ]
  },
  {
   "cell_type": "markdown",
   "metadata": {},
   "source": [
    "#### <span style='color:orange'> 1.2.3. Les variables catégoriques </span>"
   ]
  },
  {
   "cell_type": "code",
   "execution_count": 102,
   "metadata": {},
   "outputs": [],
   "source": [
    "category_columns = X.select_dtypes(include = ['object']).columns"
   ]
  },
  {
   "cell_type": "code",
   "execution_count": 103,
   "metadata": {},
   "outputs": [
    {
     "data": {
      "text/plain": [
       "Index(['BuildingType', 'PrimaryPropertyType', 'LargestPropertyUseType'], dtype='object')"
      ]
     },
     "execution_count": 103,
     "metadata": {},
     "output_type": "execute_result"
    }
   ],
   "source": [
    "category_columns"
   ]
  },
  {
   "cell_type": "markdown",
   "metadata": {},
   "source": [
    "Parmi ces variables, nous allons conservé uniquement \"LargestPropertyUseType\""
   ]
  },
  {
   "cell_type": "code",
   "execution_count": 104,
   "metadata": {},
   "outputs": [],
   "source": [
    "X=X.drop(['BuildingType','LargestPropertyUseType'], axis= 1)"
   ]
  },
  {
   "cell_type": "code",
   "execution_count": 105,
   "metadata": {},
   "outputs": [],
   "source": [
    "category_columns = X.select_dtypes(include = ['object']).columns"
   ]
  },
  {
   "cell_type": "markdown",
   "metadata": {},
   "source": [
    "#### <span style='color:darkviolet'> One-hot-encoding (transformation des variables catégoriques aux numériques)</span>"
   ]
  },
  {
   "cell_type": "code",
   "execution_count": 106,
   "metadata": {},
   "outputs": [],
   "source": [
    "encoder = OneHotEncoder(sparse=False)\n",
    "\n",
    "df= pd.DataFrame(data=encoder.fit_transform(X[category_columns]), \n",
    "                       columns=encoder.get_feature_names())"
   ]
  },
  {
   "cell_type": "code",
   "execution_count": 107,
   "metadata": {},
   "outputs": [
    {
     "data": {
      "text/plain": [
       "Index(['x0_Education', 'x0_Food Sales & Service', 'x0_Healthcare',\n",
       "       'x0_Lodging/Residential', 'x0_Mixed Use', 'x0_Office', 'x0_Other',\n",
       "       'x0_Public Assembly', 'x0_Retail', 'x0_Technology/Science',\n",
       "       'x0_Warehouse', 'x0_Warehouse/Storage'],\n",
       "      dtype='object')"
      ]
     },
     "execution_count": 107,
     "metadata": {},
     "output_type": "execute_result"
    }
   ],
   "source": [
    "df.columns"
   ]
  },
  {
   "cell_type": "code",
   "execution_count": 108,
   "metadata": {},
   "outputs": [
    {
     "data": {
      "text/plain": [
       "Index(['PrimaryPropertyType', 'NumberofBuildings', 'NumberofFloors',\n",
       "       'PropertyGFABuilding(s)', 'Latitude', 'Longitude', 'BuildingAge',\n",
       "       'PropertyGFAParkingbool'],\n",
       "      dtype='object')"
      ]
     },
     "execution_count": 108,
     "metadata": {},
     "output_type": "execute_result"
    }
   ],
   "source": [
    "X.columns"
   ]
  },
  {
   "cell_type": "markdown",
   "metadata": {},
   "source": [
    "Maintenant que les variables numériques et catégoriques sont prêtes, nous allons les mettre ensemble"
   ]
  },
  {
   "cell_type": "markdown",
   "metadata": {},
   "source": [
    "#### <span style='color:orange'> 1.2.4. Fusionner les variables numériques et catégoriques </span>"
   ]
  },
  {
   "cell_type": "code",
   "execution_count": 109,
   "metadata": {},
   "outputs": [],
   "source": [
    "X = pd.concat([X[numeric_columns], df], axis=1)"
   ]
  },
  {
   "cell_type": "code",
   "execution_count": 110,
   "metadata": {},
   "outputs": [
    {
     "data": {
      "text/plain": [
       "(1559, 19)"
      ]
     },
     "execution_count": 110,
     "metadata": {},
     "output_type": "execute_result"
    }
   ],
   "source": [
    "X.shape"
   ]
  },
  {
   "cell_type": "code",
   "execution_count": 111,
   "metadata": {},
   "outputs": [
    {
     "data": {
      "text/html": [
       "<div>\n",
       "<style scoped>\n",
       "    .dataframe tbody tr th:only-of-type {\n",
       "        vertical-align: middle;\n",
       "    }\n",
       "\n",
       "    .dataframe tbody tr th {\n",
       "        vertical-align: top;\n",
       "    }\n",
       "\n",
       "    .dataframe thead th {\n",
       "        text-align: right;\n",
       "    }\n",
       "</style>\n",
       "<table border=\"1\" class=\"dataframe\">\n",
       "  <thead>\n",
       "    <tr style=\"text-align: right;\">\n",
       "      <th></th>\n",
       "      <th>NumberofBuildings</th>\n",
       "      <th>NumberofFloors</th>\n",
       "      <th>PropertyGFABuilding(s)</th>\n",
       "      <th>Latitude</th>\n",
       "      <th>Longitude</th>\n",
       "      <th>BuildingAge</th>\n",
       "      <th>PropertyGFAParkingbool</th>\n",
       "      <th>x0_Education</th>\n",
       "      <th>x0_Food Sales &amp; Service</th>\n",
       "      <th>x0_Healthcare</th>\n",
       "      <th>x0_Lodging/Residential</th>\n",
       "      <th>x0_Mixed Use</th>\n",
       "      <th>x0_Office</th>\n",
       "      <th>x0_Other</th>\n",
       "      <th>x0_Public Assembly</th>\n",
       "      <th>x0_Retail</th>\n",
       "      <th>x0_Technology/Science</th>\n",
       "      <th>x0_Warehouse</th>\n",
       "      <th>x0_Warehouse/Storage</th>\n",
       "    </tr>\n",
       "  </thead>\n",
       "  <tbody>\n",
       "    <tr>\n",
       "      <th>0</th>\n",
       "      <td>-0.065008</td>\n",
       "      <td>0.654731</td>\n",
       "      <td>0.000832</td>\n",
       "      <td>-0.183604</td>\n",
       "      <td>-0.165021</td>\n",
       "      <td>1.670410</td>\n",
       "      <td>1.0</td>\n",
       "      <td>0.0</td>\n",
       "      <td>0.0</td>\n",
       "      <td>0.0</td>\n",
       "      <td>0.0</td>\n",
       "      <td>0.0</td>\n",
       "      <td>1.0</td>\n",
       "      <td>0.0</td>\n",
       "      <td>0.0</td>\n",
       "      <td>0.0</td>\n",
       "      <td>0.0</td>\n",
       "      <td>0.0</td>\n",
       "      <td>0.0</td>\n",
       "    </tr>\n",
       "    <tr>\n",
       "      <th>1</th>\n",
       "      <td>-0.065008</td>\n",
       "      <td>0.146021</td>\n",
       "      <td>1.061302</td>\n",
       "      <td>0.115295</td>\n",
       "      <td>-0.406098</td>\n",
       "      <td>0.419872</td>\n",
       "      <td>1.0</td>\n",
       "      <td>0.0</td>\n",
       "      <td>0.0</td>\n",
       "      <td>0.0</td>\n",
       "      <td>0.0</td>\n",
       "      <td>0.0</td>\n",
       "      <td>1.0</td>\n",
       "      <td>0.0</td>\n",
       "      <td>0.0</td>\n",
       "      <td>0.0</td>\n",
       "      <td>0.0</td>\n",
       "      <td>0.0</td>\n",
       "      <td>0.0</td>\n",
       "    </tr>\n",
       "    <tr>\n",
       "      <th>2</th>\n",
       "      <td>-0.065008</td>\n",
       "      <td>-0.108333</td>\n",
       "      <td>-0.218442</td>\n",
       "      <td>-0.914771</td>\n",
       "      <td>1.443005</td>\n",
       "      <td>-1.440685</td>\n",
       "      <td>1.0</td>\n",
       "      <td>0.0</td>\n",
       "      <td>0.0</td>\n",
       "      <td>0.0</td>\n",
       "      <td>0.0</td>\n",
       "      <td>0.0</td>\n",
       "      <td>1.0</td>\n",
       "      <td>0.0</td>\n",
       "      <td>0.0</td>\n",
       "      <td>0.0</td>\n",
       "      <td>0.0</td>\n",
       "      <td>0.0</td>\n",
       "      <td>0.0</td>\n",
       "    </tr>\n",
       "    <tr>\n",
       "      <th>3</th>\n",
       "      <td>-0.065008</td>\n",
       "      <td>0.146021</td>\n",
       "      <td>1.455555</td>\n",
       "      <td>0.110550</td>\n",
       "      <td>0.131299</td>\n",
       "      <td>-0.617160</td>\n",
       "      <td>0.0</td>\n",
       "      <td>0.0</td>\n",
       "      <td>0.0</td>\n",
       "      <td>0.0</td>\n",
       "      <td>0.0</td>\n",
       "      <td>0.0</td>\n",
       "      <td>1.0</td>\n",
       "      <td>0.0</td>\n",
       "      <td>0.0</td>\n",
       "      <td>0.0</td>\n",
       "      <td>0.0</td>\n",
       "      <td>0.0</td>\n",
       "      <td>0.0</td>\n",
       "    </tr>\n",
       "    <tr>\n",
       "      <th>4</th>\n",
       "      <td>-0.065008</td>\n",
       "      <td>0.400376</td>\n",
       "      <td>1.123113</td>\n",
       "      <td>-0.246102</td>\n",
       "      <td>-0.175839</td>\n",
       "      <td>1.517905</td>\n",
       "      <td>1.0</td>\n",
       "      <td>0.0</td>\n",
       "      <td>0.0</td>\n",
       "      <td>0.0</td>\n",
       "      <td>0.0</td>\n",
       "      <td>0.0</td>\n",
       "      <td>1.0</td>\n",
       "      <td>0.0</td>\n",
       "      <td>0.0</td>\n",
       "      <td>0.0</td>\n",
       "      <td>0.0</td>\n",
       "      <td>0.0</td>\n",
       "      <td>0.0</td>\n",
       "    </tr>\n",
       "    <tr>\n",
       "      <th>5</th>\n",
       "      <td>-0.065008</td>\n",
       "      <td>-0.108333</td>\n",
       "      <td>-0.056089</td>\n",
       "      <td>-0.089469</td>\n",
       "      <td>0.473622</td>\n",
       "      <td>0.999390</td>\n",
       "      <td>1.0</td>\n",
       "      <td>0.0</td>\n",
       "      <td>0.0</td>\n",
       "      <td>1.0</td>\n",
       "      <td>0.0</td>\n",
       "      <td>0.0</td>\n",
       "      <td>0.0</td>\n",
       "      <td>0.0</td>\n",
       "      <td>0.0</td>\n",
       "      <td>0.0</td>\n",
       "      <td>0.0</td>\n",
       "      <td>0.0</td>\n",
       "      <td>0.0</td>\n",
       "    </tr>\n",
       "    <tr>\n",
       "      <th>6</th>\n",
       "      <td>-0.065008</td>\n",
       "      <td>-0.108333</td>\n",
       "      <td>-0.645099</td>\n",
       "      <td>0.035118</td>\n",
       "      <td>0.009921</td>\n",
       "      <td>0.968889</td>\n",
       "      <td>0.0</td>\n",
       "      <td>0.0</td>\n",
       "      <td>0.0</td>\n",
       "      <td>0.0</td>\n",
       "      <td>0.0</td>\n",
       "      <td>0.0</td>\n",
       "      <td>1.0</td>\n",
       "      <td>0.0</td>\n",
       "      <td>0.0</td>\n",
       "      <td>0.0</td>\n",
       "      <td>0.0</td>\n",
       "      <td>0.0</td>\n",
       "      <td>0.0</td>\n",
       "    </tr>\n",
       "    <tr>\n",
       "      <th>7</th>\n",
       "      <td>-0.065008</td>\n",
       "      <td>-0.362688</td>\n",
       "      <td>-0.556587</td>\n",
       "      <td>0.051148</td>\n",
       "      <td>-0.015642</td>\n",
       "      <td>0.724881</td>\n",
       "      <td>0.0</td>\n",
       "      <td>0.0</td>\n",
       "      <td>0.0</td>\n",
       "      <td>0.0</td>\n",
       "      <td>0.0</td>\n",
       "      <td>0.0</td>\n",
       "      <td>1.0</td>\n",
       "      <td>0.0</td>\n",
       "      <td>0.0</td>\n",
       "      <td>0.0</td>\n",
       "      <td>0.0</td>\n",
       "      <td>0.0</td>\n",
       "      <td>0.0</td>\n",
       "    </tr>\n",
       "    <tr>\n",
       "      <th>8</th>\n",
       "      <td>-0.065008</td>\n",
       "      <td>-0.617043</td>\n",
       "      <td>-0.618474</td>\n",
       "      <td>2.237672</td>\n",
       "      <td>-0.414845</td>\n",
       "      <td>-1.227178</td>\n",
       "      <td>0.0</td>\n",
       "      <td>0.0</td>\n",
       "      <td>0.0</td>\n",
       "      <td>0.0</td>\n",
       "      <td>0.0</td>\n",
       "      <td>0.0</td>\n",
       "      <td>0.0</td>\n",
       "      <td>0.0</td>\n",
       "      <td>0.0</td>\n",
       "      <td>1.0</td>\n",
       "      <td>0.0</td>\n",
       "      <td>0.0</td>\n",
       "      <td>0.0</td>\n",
       "    </tr>\n",
       "    <tr>\n",
       "      <th>9</th>\n",
       "      <td>-0.065008</td>\n",
       "      <td>0.909086</td>\n",
       "      <td>-0.348771</td>\n",
       "      <td>-0.130521</td>\n",
       "      <td>-0.255782</td>\n",
       "      <td>1.731412</td>\n",
       "      <td>0.0</td>\n",
       "      <td>0.0</td>\n",
       "      <td>0.0</td>\n",
       "      <td>0.0</td>\n",
       "      <td>0.0</td>\n",
       "      <td>0.0</td>\n",
       "      <td>0.0</td>\n",
       "      <td>1.0</td>\n",
       "      <td>0.0</td>\n",
       "      <td>0.0</td>\n",
       "      <td>0.0</td>\n",
       "      <td>0.0</td>\n",
       "      <td>0.0</td>\n",
       "    </tr>\n",
       "  </tbody>\n",
       "</table>\n",
       "</div>"
      ],
      "text/plain": [
       "   NumberofBuildings  NumberofFloors  PropertyGFABuilding(s)  Latitude  \\\n",
       "0          -0.065008        0.654731                0.000832 -0.183604   \n",
       "1          -0.065008        0.146021                1.061302  0.115295   \n",
       "2          -0.065008       -0.108333               -0.218442 -0.914771   \n",
       "3          -0.065008        0.146021                1.455555  0.110550   \n",
       "4          -0.065008        0.400376                1.123113 -0.246102   \n",
       "5          -0.065008       -0.108333               -0.056089 -0.089469   \n",
       "6          -0.065008       -0.108333               -0.645099  0.035118   \n",
       "7          -0.065008       -0.362688               -0.556587  0.051148   \n",
       "8          -0.065008       -0.617043               -0.618474  2.237672   \n",
       "9          -0.065008        0.909086               -0.348771 -0.130521   \n",
       "\n",
       "   Longitude  BuildingAge  PropertyGFAParkingbool  x0_Education  \\\n",
       "0  -0.165021     1.670410                     1.0           0.0   \n",
       "1  -0.406098     0.419872                     1.0           0.0   \n",
       "2   1.443005    -1.440685                     1.0           0.0   \n",
       "3   0.131299    -0.617160                     0.0           0.0   \n",
       "4  -0.175839     1.517905                     1.0           0.0   \n",
       "5   0.473622     0.999390                     1.0           0.0   \n",
       "6   0.009921     0.968889                     0.0           0.0   \n",
       "7  -0.015642     0.724881                     0.0           0.0   \n",
       "8  -0.414845    -1.227178                     0.0           0.0   \n",
       "9  -0.255782     1.731412                     0.0           0.0   \n",
       "\n",
       "   x0_Food Sales & Service  x0_Healthcare  x0_Lodging/Residential  \\\n",
       "0                      0.0            0.0                     0.0   \n",
       "1                      0.0            0.0                     0.0   \n",
       "2                      0.0            0.0                     0.0   \n",
       "3                      0.0            0.0                     0.0   \n",
       "4                      0.0            0.0                     0.0   \n",
       "5                      0.0            1.0                     0.0   \n",
       "6                      0.0            0.0                     0.0   \n",
       "7                      0.0            0.0                     0.0   \n",
       "8                      0.0            0.0                     0.0   \n",
       "9                      0.0            0.0                     0.0   \n",
       "\n",
       "   x0_Mixed Use  x0_Office  x0_Other  x0_Public Assembly  x0_Retail  \\\n",
       "0           0.0        1.0       0.0                 0.0        0.0   \n",
       "1           0.0        1.0       0.0                 0.0        0.0   \n",
       "2           0.0        1.0       0.0                 0.0        0.0   \n",
       "3           0.0        1.0       0.0                 0.0        0.0   \n",
       "4           0.0        1.0       0.0                 0.0        0.0   \n",
       "5           0.0        0.0       0.0                 0.0        0.0   \n",
       "6           0.0        1.0       0.0                 0.0        0.0   \n",
       "7           0.0        1.0       0.0                 0.0        0.0   \n",
       "8           0.0        0.0       0.0                 0.0        1.0   \n",
       "9           0.0        0.0       1.0                 0.0        0.0   \n",
       "\n",
       "   x0_Technology/Science  x0_Warehouse  x0_Warehouse/Storage  \n",
       "0                    0.0           0.0                   0.0  \n",
       "1                    0.0           0.0                   0.0  \n",
       "2                    0.0           0.0                   0.0  \n",
       "3                    0.0           0.0                   0.0  \n",
       "4                    0.0           0.0                   0.0  \n",
       "5                    0.0           0.0                   0.0  \n",
       "6                    0.0           0.0                   0.0  \n",
       "7                    0.0           0.0                   0.0  \n",
       "8                    0.0           0.0                   0.0  \n",
       "9                    0.0           0.0                   0.0  "
      ]
     },
     "execution_count": 111,
     "metadata": {},
     "output_type": "execute_result"
    }
   ],
   "source": [
    "X.head(10)"
   ]
  },
  {
   "cell_type": "markdown",
   "metadata": {},
   "source": [
    " \n",
    "#### <span style='color:blue '> 2. Modèle Baseline: DummyRegressor  </span>"
   ]
  },
  {
   "cell_type": "markdown",
   "metadata": {},
   "source": [
    "Nous allons créer un modèle baseline pour évaluer les performances de nos futurs modèles et vérifier qu’ils améliorent les prédictions. Pour cette baseline, nous utiliserons une DummyRegressor."
   ]
  },
  {
   "cell_type": "code",
   "execution_count": 112,
   "metadata": {},
   "outputs": [],
   "source": [
    "import timeit\n",
    "\n",
    "start_time = timeit.default_timer()"
   ]
  },
  {
   "cell_type": "code",
   "execution_count": 113,
   "metadata": {},
   "outputs": [],
   "source": [
    "from sklearn.model_selection import train_test_split\n",
    "\n",
    "X_train, X_test, y_train, y_test = train_test_split(X,y['SiteEnergyUse(kBtu)'], test_size=0.20, random_state=42)\n"
   ]
  },
  {
   "cell_type": "code",
   "execution_count": 114,
   "metadata": {},
   "outputs": [],
   "source": [
    "from sklearn.dummy import DummyRegressor\n",
    "dummy_regr = DummyRegressor(strategy=\"mean\")"
   ]
  },
  {
   "cell_type": "code",
   "execution_count": 115,
   "metadata": {},
   "outputs": [
    {
     "data": {
      "text/plain": [
       "DummyRegressor()"
      ]
     },
     "execution_count": 115,
     "metadata": {},
     "output_type": "execute_result"
    }
   ],
   "source": [
    "# Entrainement\n",
    "dummy_regr.fit(X_train,  y_train)"
   ]
  },
  {
   "cell_type": "code",
   "execution_count": 116,
   "metadata": {},
   "outputs": [],
   "source": [
    "# Prédiction sur le jeu de test\n",
    "y_test_pred= dummy_regr.predict(X_test)"
   ]
  },
  {
   "cell_type": "code",
   "execution_count": 117,
   "metadata": {},
   "outputs": [
    {
     "data": {
      "text/html": [
       "<div>\n",
       "<style scoped>\n",
       "    .dataframe tbody tr th:only-of-type {\n",
       "        vertical-align: middle;\n",
       "    }\n",
       "\n",
       "    .dataframe tbody tr th {\n",
       "        vertical-align: top;\n",
       "    }\n",
       "\n",
       "    .dataframe thead th {\n",
       "        text-align: right;\n",
       "    }\n",
       "</style>\n",
       "<table border=\"1\" class=\"dataframe\">\n",
       "  <thead>\n",
       "    <tr style=\"text-align: right;\">\n",
       "      <th></th>\n",
       "      <th>MAE</th>\n",
       "      <th>Modèle</th>\n",
       "      <th>R2</th>\n",
       "      <th>RMSE</th>\n",
       "      <th>time</th>\n",
       "    </tr>\n",
       "  </thead>\n",
       "  <tbody>\n",
       "    <tr>\n",
       "      <th>0</th>\n",
       "      <td>0.9636</td>\n",
       "      <td>DummyRegressor</td>\n",
       "      <td>-0.000019</td>\n",
       "      <td>1.185507</td>\n",
       "      <td>7.49274</td>\n",
       "    </tr>\n",
       "  </tbody>\n",
       "</table>\n",
       "</div>"
      ],
      "text/plain": [
       "      MAE          Modèle        R2      RMSE     time\n",
       "0  0.9636  DummyRegressor -0.000019  1.185507  7.49274"
      ]
     },
     "execution_count": 117,
     "metadata": {},
     "output_type": "execute_result"
    }
   ],
   "source": [
    "# evaluation\n",
    "import sklearn.metrics as metrics\n",
    "Results = pd.DataFrame({})\n",
    "rmse=metrics.mean_squared_error(y_test, y_test_pred, squared = False)\n",
    "mae=metrics.mean_absolute_error(y_test, y_test_pred)\n",
    "r2=metrics.r2_score(y_test, y_test_pred)\n",
    "time = timeit.default_timer() - start_time\n",
    "Results = Results.append({\n",
    "    \"Modèle\" : \"DummyRegressor\",\n",
    "    \"RMSE\": rmse,\n",
    "    \"MAE\": mae,\n",
    "    \"R2\": r2,\n",
    "    \"time\": time\n",
    "}, ignore_index = True)\n",
    "Results"
   ]
  },
  {
   "cell_type": "code",
   "execution_count": 118,
   "metadata": {},
   "outputs": [],
   "source": [
    "Baseline = pd.melt(Results.reset_index(), id_vars = ['Modèle'], value_name = 'score', value_vars=[\"RMSE\",\"MAE\",\"R2\",\"time\"])"
   ]
  },
  {
   "cell_type": "code",
   "execution_count": 119,
   "metadata": {},
   "outputs": [
    {
     "data": {
      "text/plain": [
       "Text(0.5, 1.0, 'DummyRegressor')"
      ]
     },
     "execution_count": 119,
     "metadata": {},
     "output_type": "execute_result"
    },
    {
     "data": {
      "image/png": "[encoded data removed]",
      "text/plain": [
       "<Figure size 576x288 with 1 Axes>"
      ]
     },
     "metadata": {
      "needs_background": "light"
     },
     "output_type": "display_data"
    }
   ],
   "source": [
    "plt.figure(figsize=(8,4))\n",
    "sns.barplot(x = Baseline['Modèle'],\n",
    "            y = Baseline['score'], hue = Baseline['variable'])\n",
    "plt.title('DummyRegressor')"
   ]
  },
  {
   "cell_type": "markdown",
   "metadata": {},
   "source": [
    "Nous allons donc réaliser nos premières modélisations : "
   ]
  },
  {
   "cell_type": "markdown",
   "metadata": {},
   "source": [
    "#### <span style='color:blue '> 3.Prédiction de la consommation totale d'énergie (SiteEnergyUse) </span>\n"
   ]
  },
  {
   "cell_type": "markdown",
   "metadata": {},
   "source": [
    "#### Séparation des jeux de données d'entraînement et de test"
   ]
  },
  {
   "cell_type": "markdown",
   "metadata": {},
   "source": [
    "Nous allons d'abord Séparer des jeux de données d'entraînement et de test.  étant donné que les hyperparamètres et le modèle seront sélectionnées par une validation croisée, il n'est pas nécessaire de séparer jeux d'entraînement, de test et de validation."
   ]
  },
  {
   "cell_type": "code",
   "execution_count": 120,
   "metadata": {},
   "outputs": [
    {
     "name": "stdout",
     "output_type": "stream",
     "text": [
      "Entrainement: 1247 lignes,\n",
      "Test: 312 lignes.\n",
      "\n"
     ]
    }
   ],
   "source": [
    "X_train, X_test, y_train, y_test = train_test_split(X,y['SiteEnergyUse(kBtu)'], test_size=0.20, shuffle=True, random_state=42)\n",
    "\n",
    "\n",
    "print(\"Entrainement: {} lignes,\\nTest: {} lignes.\\n\".format(X_train.shape[0],\n",
    "                                                            X_test.shape[0]))"
   ]
  },
  {
   "cell_type": "markdown",
   "metadata": {},
   "source": [
    "#### <span style='color:orange '> 3.1.Modèle ElasticNet (SiteEnergyUse) </span>"
   ]
  },
  {
   "cell_type": "code",
   "execution_count": 121,
   "metadata": {},
   "outputs": [
    {
     "data": {
      "text/plain": [
       "GridSearchCV(cv=5, estimator=ElasticNet(random_state=42), n_jobs=-1,\n",
       "             param_grid={'alpha': [0.0001, 0.001, 0.01, 0.1, 1, 10, 100],\n",
       "                         'l1_ratio': array([0. , 0.1, 0.2, 0.3, 0.4, 0.5, 0.6, 0.7, 0.8, 0.9]),\n",
       "                         'tol': [0.1, 0.01, 0.001, 0.0001]},\n",
       "             scoring='neg_root_mean_squared_error')"
      ]
     },
     "execution_count": 121,
     "metadata": {},
     "output_type": "execute_result"
    }
   ],
   "source": [
    "from sklearn.linear_model import ElasticNet\n",
    "from sklearn.model_selection import GridSearchCV\n",
    "\n",
    "parameters = {'tol' : [0.1,0.01,0.001,0.0001],  #critères d'arrêt\n",
    "              # arrêt de rechercher un minimum (ou un maximum) une fois qu'une certaine tolérance est atteinte \n",
    "              \"alpha\": [0.0001, 0.001, 0.01, 0.1, 1, 10, 100], \n",
    "              \"l1_ratio\": np.arange(0.0, 1.0, 0.1)}  \n",
    "\n",
    "\n",
    "elastic_grid = GridSearchCV(estimator = ElasticNet(random_state= 42), \n",
    "                            param_grid = parameters,\n",
    "                            scoring='neg_root_mean_squared_error',\n",
    "                            n_jobs=-1, #  le nombre de processus (tous les processeurs seront utilisés)\n",
    "                            cv=5,\n",
    "                            verbose=0\n",
    "                            )\n",
    "\n",
    "elastic_grid.fit(X_train, y_train)"
   ]
  },
  {
   "cell_type": "code",
   "execution_count": 122,
   "metadata": {},
   "outputs": [
    {
     "data": {
      "text/plain": [
       "{'alpha': 0.0001, 'l1_ratio': 0.9, 'tol': 0.01}"
      ]
     },
     "execution_count": 122,
     "metadata": {},
     "output_type": "execute_result"
    }
   ],
   "source": [
    "elastic_grid.best_params_"
   ]
  },
  {
   "cell_type": "markdown",
   "metadata": {},
   "source": [
    "l1_ratio est  de 0.30, signifiant que le poids du L2 est plus important que celui du L1 dans la régularisation"
   ]
  },
  {
   "cell_type": "markdown",
   "metadata": {},
   "source": [
    "'Alpha’ : 0.1, donc, une régression Ridge est préféré"
   ]
  },
  {
   "cell_type": "code",
   "execution_count": 123,
   "metadata": {},
   "outputs": [
    {
     "name": "stdout",
     "output_type": "stream",
     "text": [
      "629 µs ± 14.5 µs per loop (mean ± std. dev. of 7 runs, 1000 loops each)\n"
     ]
    }
   ],
   "source": [
    "from sklearn.metrics import mean_squared_error\n",
    "from sklearn.metrics import mean_absolute_error\n",
    "from sklearn.metrics import r2_score\n",
    "\n",
    "consommation_energy = pd.DataFrame({})\n",
    "\n",
    "rmse = mean_squared_error(y_test, elastic_grid.predict(X_test), squared=False)\n",
    "mae = mean_absolute_error(y_test, elastic_grid.predict(X_test))\n",
    "r_squared = r2_score(y_test, elastic_grid.predict(X_test))\n",
    "time = %timeit -o elastic_grid.best_estimator_.predict(X_test)\n",
    "\n",
    "consommation_energy = consommation_energy.append(pd.DataFrame({'Modèle': ['LinearRegression'],\n",
    "                                       'RMSE': rmse,\n",
    "                                       'MAE': mae,\n",
    "                                       'R²': r_squared,\n",
    "                                       'Time_ms': time.best*1000,\n",
    "                'Cv_score(RMSE)': -1 * elastic_grid.best_score_}),\n",
    "                         ignore_index=True)"
   ]
  },
  {
   "cell_type": "code",
   "execution_count": 124,
   "metadata": {},
   "outputs": [
    {
     "data": {
      "text/html": [
       "<div>\n",
       "<style scoped>\n",
       "    .dataframe tbody tr th:only-of-type {\n",
       "        vertical-align: middle;\n",
       "    }\n",
       "\n",
       "    .dataframe tbody tr th {\n",
       "        vertical-align: top;\n",
       "    }\n",
       "\n",
       "    .dataframe thead th {\n",
       "        text-align: right;\n",
       "    }\n",
       "</style>\n",
       "<table border=\"1\" class=\"dataframe\">\n",
       "  <thead>\n",
       "    <tr style=\"text-align: right;\">\n",
       "      <th></th>\n",
       "      <th>Modèle</th>\n",
       "      <th>RMSE</th>\n",
       "      <th>MAE</th>\n",
       "      <th>R²</th>\n",
       "      <th>Time_ms</th>\n",
       "      <th>Cv_score(RMSE)</th>\n",
       "    </tr>\n",
       "  </thead>\n",
       "  <tbody>\n",
       "    <tr>\n",
       "      <th>0</th>\n",
       "      <td>LinearRegression</td>\n",
       "      <td>0.856278</td>\n",
       "      <td>0.643673</td>\n",
       "      <td>0.47829</td>\n",
       "      <td>0.609883</td>\n",
       "      <td>0.837471</td>\n",
       "    </tr>\n",
       "  </tbody>\n",
       "</table>\n",
       "</div>"
      ],
      "text/plain": [
       "             Modèle      RMSE       MAE       R²   Time_ms  Cv_score(RMSE)\n",
       "0  LinearRegression  0.856278  0.643673  0.47829  0.609883        0.837471"
      ]
     },
     "execution_count": 124,
     "metadata": {},
     "output_type": "execute_result"
    }
   ],
   "source": [
    "consommation_energy"
   ]
  },
  {
   "cell_type": "markdown",
   "metadata": {},
   "source": [
    "#### Coefficients de Elastic_Net"
   ]
  },
  {
   "cell_type": "code",
   "execution_count": 125,
   "metadata": {},
   "outputs": [
    {
     "data": {
      "text/plain": [
       "Text(0.5, 1.0, 'coefficients de Elastic_Net')"
      ]
     },
     "execution_count": 125,
     "metadata": {},
     "output_type": "execute_result"
    },
    {
     "data": {
      "image/png": "[encoded data removed]",
      "text/plain": [
       "<Figure size 504x720 with 1 Axes>"
      ]
     },
     "metadata": {
      "needs_background": "light"
     },
     "output_type": "display_data"
    }
   ],
   "source": [
    "elastic_Coef=pd.DataFrame({'Feature': X_test.columns,\n",
    "              'Coef': elastic_grid.best_estimator_.coef_})\n",
    "plt.figure(figsize=(7,10))\n",
    "sns.barplot(x = elastic_Coef['Coef'],\n",
    "            y = elastic_Coef['Feature'])\n",
    "plt.title('coefficients de Elastic_Net')"
   ]
  },
  {
   "cell_type": "markdown",
   "metadata": {},
   "source": [
    "#### <span style='color:orange '> 3.2.Modèle Support Vector Machine (SVM) - (SiteEnergyUse) </span>"
   ]
  },
  {
   "cell_type": "code",
   "execution_count": 126,
   "metadata": {},
   "outputs": [
    {
     "name": "stdout",
     "output_type": "stream",
     "text": [
      "Fitting 5 folds for each of 160 candidates, totalling 800 fits\n"
     ]
    },
    {
     "data": {
      "text/plain": [
       "GridSearchCV(cv=5, estimator=SVR(), n_jobs=-1,\n",
       "             param_grid={'C': [0.001, 0.01, 0.1, 1, 10],\n",
       "                         'epsilon': [0.001, 0.01, 0.1, 1],\n",
       "                         'gamma': [1e-08, 1e-07, 1e-06, 1e-05, 0.0001, 0.001,\n",
       "                                   0.01, 0.1]},\n",
       "             scoring='neg_root_mean_squared_error', verbose=5)"
      ]
     },
     "execution_count": 126,
     "metadata": {},
     "output_type": "execute_result"
    }
   ],
   "source": [
    "from sklearn.svm import SVR\n",
    "\n",
    "parameters = {'gamma' : [1e-8, 1e-7, 1e-6, 1e-5, 1e-4, 1e-3, 1e-2, 1e-1], # distance pour calcul de la ligne de séparation plausible\n",
    "              'epsilon' : [0.001, 0.01, 0.1, 1], #erreur tolérée par l'algorithme\n",
    "              'C' : [0.001, 0.01, 0.1, 1, 10]} # parametre de régularisation(le paramètre de pénalité)\n",
    "\n",
    "svm = GridSearchCV(estimator = SVR(), \n",
    "                      param_grid = parameters,\n",
    "                      scoring='neg_root_mean_squared_error',\n",
    "                      n_jobs=-1,\n",
    "                      cv=5,\n",
    "                      verbose=5\n",
    "                     )\n",
    "\n",
    "svm.fit(X_train, y_train)"
   ]
  },
  {
   "cell_type": "code",
   "execution_count": 127,
   "metadata": {},
   "outputs": [
    {
     "data": {
      "text/plain": [
       "{'C': 10, 'epsilon': 0.1, 'gamma': 0.01}"
      ]
     },
     "execution_count": 127,
     "metadata": {},
     "output_type": "execute_result"
    }
   ],
   "source": [
    "svm.best_params_"
   ]
  },
  {
   "cell_type": "code",
   "execution_count": 128,
   "metadata": {},
   "outputs": [
    {
     "name": "stdout",
     "output_type": "stream",
     "text": [
      "23.9 ms ± 709 µs per loop (mean ± std. dev. of 7 runs, 10 loops each)\n"
     ]
    }
   ],
   "source": [
    "rmse = mean_squared_error(y_test, svm.predict(X_test), squared=False)\n",
    "mae = mean_absolute_error(y_test, svm.predict(X_test))\n",
    "r_squared = r2_score(y_test, svm.predict(X_test))\n",
    "time = %timeit -o  svm.best_estimator_.predict(X_test)\n",
    "\n",
    "consommation_energy = consommation_energy.append(pd.DataFrame({'Modèle': ['SVR'],\n",
    "                                       'RMSE': rmse,\n",
    "                                       'MAE': mae,\n",
    "                                       'R²': r_squared,\n",
    "                                       'Time_ms': time.best*1000,\n",
    "                    'Cv_score(RMSE)': -1 * svm.best_score_}),\n",
    "                         ignore_index=True)"
   ]
  },
  {
   "cell_type": "code",
   "execution_count": 129,
   "metadata": {},
   "outputs": [
    {
     "data": {
      "text/html": [
       "<div>\n",
       "<style scoped>\n",
       "    .dataframe tbody tr th:only-of-type {\n",
       "        vertical-align: middle;\n",
       "    }\n",
       "\n",
       "    .dataframe tbody tr th {\n",
       "        vertical-align: top;\n",
       "    }\n",
       "\n",
       "    .dataframe thead th {\n",
       "        text-align: right;\n",
       "    }\n",
       "</style>\n",
       "<table border=\"1\" class=\"dataframe\">\n",
       "  <thead>\n",
       "    <tr style=\"text-align: right;\">\n",
       "      <th></th>\n",
       "      <th>Modèle</th>\n",
       "      <th>RMSE</th>\n",
       "      <th>MAE</th>\n",
       "      <th>R²</th>\n",
       "      <th>Time_ms</th>\n",
       "      <th>Cv_score(RMSE)</th>\n",
       "    </tr>\n",
       "  </thead>\n",
       "  <tbody>\n",
       "    <tr>\n",
       "      <th>0</th>\n",
       "      <td>LinearRegression</td>\n",
       "      <td>0.856278</td>\n",
       "      <td>0.643673</td>\n",
       "      <td>0.478290</td>\n",
       "      <td>0.609883</td>\n",
       "      <td>0.837471</td>\n",
       "    </tr>\n",
       "    <tr>\n",
       "      <th>1</th>\n",
       "      <td>SVR</td>\n",
       "      <td>0.729695</td>\n",
       "      <td>0.553269</td>\n",
       "      <td>0.621137</td>\n",
       "      <td>23.110310</td>\n",
       "      <td>0.793167</td>\n",
       "    </tr>\n",
       "  </tbody>\n",
       "</table>\n",
       "</div>"
      ],
      "text/plain": [
       "             Modèle      RMSE       MAE        R²    Time_ms  Cv_score(RMSE)\n",
       "0  LinearRegression  0.856278  0.643673  0.478290   0.609883        0.837471\n",
       "1               SVR  0.729695  0.553269  0.621137  23.110310        0.793167"
      ]
     },
     "execution_count": 129,
     "metadata": {},
     "output_type": "execute_result"
    }
   ],
   "source": [
    "consommation_energy"
   ]
  },
  {
   "cell_type": "markdown",
   "metadata": {},
   "source": [
    "#### <span style='color:orange '> 3.3. Modèle Random Forest Regressor (SiteEnergyUse) </span>"
   ]
  },
  {
   "cell_type": "code",
   "execution_count": 130,
   "metadata": {},
   "outputs": [
    {
     "name": "stdout",
     "output_type": "stream",
     "text": [
      "Fitting 5 folds for each of 18 candidates, totalling 90 fits\n"
     ]
    },
    {
     "data": {
      "text/plain": [
       "GridSearchCV(cv=5, estimator=RandomForestRegressor(random_state=42), n_jobs=-1,\n",
       "             param_grid={'max_features': ['auto', 'sqrt'],\n",
       "                         'min_samples_leaf': [1, 2, 5],\n",
       "                         'n_estimators': [100, 300, 500]},\n",
       "             scoring='neg_root_mean_squared_error', verbose=5)"
      ]
     },
     "execution_count": 130,
     "metadata": {},
     "output_type": "execute_result"
    }
   ],
   "source": [
    "from sklearn.ensemble import RandomForestRegressor\n",
    "parameters = {\n",
    "    'n_estimators' : [100, 300, 500],  #nombre d'arbres de décision\n",
    "  \n",
    "    'min_samples_leaf' : [1, 2, 5], \n",
    "    #nombre de feuilles minimales dans un noeud\n",
    "    'max_features': ['auto', 'sqrt'] \n",
    "    #nombre de features observées par arbre\n",
    "}\n",
    "\n",
    "R_Forest_grid = GridSearchCV(RandomForestRegressor(random_state=42),\n",
    "                        param_grid=parameters,\n",
    "                        scoring='neg_root_mean_squared_error',\n",
    "                        n_jobs=-1,\n",
    "                        verbose=5,\n",
    "                        cv=5)\n",
    "\n",
    "R_Forest_grid.fit(X_train, y_train)"
   ]
  },
  {
   "cell_type": "code",
   "execution_count": 131,
   "metadata": {},
   "outputs": [
    {
     "data": {
      "text/plain": [
       "{'max_features': 'auto', 'min_samples_leaf': 5, 'n_estimators': 300}"
      ]
     },
     "execution_count": 131,
     "metadata": {},
     "output_type": "execute_result"
    }
   ],
   "source": [
    "R_Forest_grid.best_params_"
   ]
  },
  {
   "cell_type": "code",
   "execution_count": 132,
   "metadata": {},
   "outputs": [],
   "source": [
    "coefficients = abs(R_Forest_grid.best_estimator_.feature_importances_)\n",
    "liste_coefs_rer = pd.concat((pd.DataFrame(X.columns, columns = ['Variable']), \n",
    "                      pd.DataFrame(coefficients, columns = ['Coefficient'])), axis = 1).sort_values(by='Coefficient', ascending = False)"
   ]
  },
  {
   "cell_type": "code",
   "execution_count": 133,
   "metadata": {},
   "outputs": [
    {
     "data": {
      "image/png": "[encoded data removed]",
      "text/plain": [
       "<Figure size 576x576 with 1 Axes>"
      ]
     },
     "metadata": {
      "needs_background": "light"
     },
     "output_type": "display_data"
    }
   ],
   "source": [
    "plt.figure(figsize=(8,8))\n",
    "plt.title('RandomForestRegressor - Importance des 20 premières Features')\n",
    "sns.barplot(y = liste_coefs_rer['Variable'].head(20),\n",
    "            x = liste_coefs_rer['Coefficient'].head(20))\n",
    "plt.show()"
   ]
  },
  {
   "cell_type": "code",
   "execution_count": 134,
   "metadata": {},
   "outputs": [
    {
     "data": {
      "text/plain": [
       "-0.8076902490295647"
      ]
     },
     "execution_count": 134,
     "metadata": {},
     "output_type": "execute_result"
    }
   ],
   "source": [
    "R_Forest_grid.best_score_"
   ]
  },
  {
   "cell_type": "code",
   "execution_count": 135,
   "metadata": {},
   "outputs": [
    {
     "name": "stdout",
     "output_type": "stream",
     "text": [
      "20.6 ms ± 1.68 ms per loop (mean ± std. dev. of 7 runs, 10 loops each)\n"
     ]
    }
   ],
   "source": [
    "rmse = mean_squared_error(y_test, R_Forest_grid.predict(X_test), squared=False)\n",
    "mae = mean_absolute_error(y_test, R_Forest_grid.predict(X_test))\n",
    "r_squared = r2_score(y_test, R_Forest_grid.predict(X_test))\n",
    "time = %timeit -o  R_Forest_grid.best_estimator_.predict(X_test)\n",
    "consommation_energy = consommation_energy.append(pd.DataFrame({'Modèle': ['Random Forest Regressor'],\n",
    "                                       'RMSE': rmse,\n",
    "                                       'MAE': mae,\n",
    "                                       'R²': r_squared,\n",
    "                                       'Time_ms': time.best*1000,\n",
    "                    'Cv_score(RMSE)': -1 * R_Forest_grid.best_score_}),\n",
    "                         ignore_index=True)"
   ]
  },
  {
   "cell_type": "code",
   "execution_count": 136,
   "metadata": {},
   "outputs": [
    {
     "data": {
      "text/html": [
       "<div>\n",
       "<style scoped>\n",
       "    .dataframe tbody tr th:only-of-type {\n",
       "        vertical-align: middle;\n",
       "    }\n",
       "\n",
       "    .dataframe tbody tr th {\n",
       "        vertical-align: top;\n",
       "    }\n",
       "\n",
       "    .dataframe thead th {\n",
       "        text-align: right;\n",
       "    }\n",
       "</style>\n",
       "<table border=\"1\" class=\"dataframe\">\n",
       "  <thead>\n",
       "    <tr style=\"text-align: right;\">\n",
       "      <th></th>\n",
       "      <th>Modèle</th>\n",
       "      <th>RMSE</th>\n",
       "      <th>MAE</th>\n",
       "      <th>R²</th>\n",
       "      <th>Time_ms</th>\n",
       "      <th>Cv_score(RMSE)</th>\n",
       "    </tr>\n",
       "  </thead>\n",
       "  <tbody>\n",
       "    <tr>\n",
       "      <th>0</th>\n",
       "      <td>LinearRegression</td>\n",
       "      <td>0.856278</td>\n",
       "      <td>0.643673</td>\n",
       "      <td>0.478290</td>\n",
       "      <td>0.609883</td>\n",
       "      <td>0.837471</td>\n",
       "    </tr>\n",
       "    <tr>\n",
       "      <th>1</th>\n",
       "      <td>SVR</td>\n",
       "      <td>0.729695</td>\n",
       "      <td>0.553269</td>\n",
       "      <td>0.621137</td>\n",
       "      <td>23.110310</td>\n",
       "      <td>0.793167</td>\n",
       "    </tr>\n",
       "    <tr>\n",
       "      <th>2</th>\n",
       "      <td>Random Forest Regressor</td>\n",
       "      <td>0.722297</td>\n",
       "      <td>0.522064</td>\n",
       "      <td>0.628780</td>\n",
       "      <td>18.997880</td>\n",
       "      <td>0.807690</td>\n",
       "    </tr>\n",
       "  </tbody>\n",
       "</table>\n",
       "</div>"
      ],
      "text/plain": [
       "                    Modèle      RMSE       MAE        R²    Time_ms  \\\n",
       "0         LinearRegression  0.856278  0.643673  0.478290   0.609883   \n",
       "1                      SVR  0.729695  0.553269  0.621137  23.110310   \n",
       "2  Random Forest Regressor  0.722297  0.522064  0.628780  18.997880   \n",
       "\n",
       "   Cv_score(RMSE)  \n",
       "0        0.837471  \n",
       "1        0.793167  \n",
       "2        0.807690  "
      ]
     },
     "execution_count": 136,
     "metadata": {},
     "output_type": "execute_result"
    }
   ],
   "source": [
    "consommation_energy"
   ]
  },
  {
   "cell_type": "markdown",
   "metadata": {},
   "source": [
    "#### <span style='color:orange '> 3.4.Modèle XGBoost (SiteEnergyUse) </span>"
   ]
  },
  {
   "cell_type": "code",
   "execution_count": 137,
   "metadata": {},
   "outputs": [],
   "source": [
    "from xgboost import XGBRegressor\n",
    "from sklearn.ensemble import GradientBoostingRegressor"
   ]
  },
  {
   "cell_type": "code",
   "execution_count": 138,
   "metadata": {},
   "outputs": [
    {
     "name": "stdout",
     "output_type": "stream",
     "text": [
      "Fitting 5 folds for each of 60 candidates, totalling 300 fits\n"
     ]
    },
    {
     "data": {
      "text/plain": [
       "GridSearchCV(cv=5, estimator=GradientBoostingRegressor(random_state=42),\n",
       "             n_jobs=-1,\n",
       "             param_grid={'criterion': ['mse'], 'loss': ['ls', 'lad'],\n",
       "                         'max_features': ['auto', 'sqrt'],\n",
       "                         'min_samples_leaf': [1, 2, 5, 8, 12],\n",
       "                         'n_estimators': [100, 200, 300]},\n",
       "             scoring='neg_root_mean_squared_error', verbose=5)"
      ]
     },
     "execution_count": 138,
     "metadata": {},
     "output_type": "execute_result"
    }
   ],
   "source": [
    "\n",
    "parameters = {\n",
    "    'loss': ['ls', 'lad'],\n",
    "    'n_estimators': [100, 200, 300],\n",
    "    'min_samples_leaf': [1, 2, 5, 8, 12],\n",
    "    'max_features': ['auto', 'sqrt'],\n",
    "    'criterion': ['mse'],\n",
    "}\n",
    "\n",
    "xgb_grid = GridSearchCV(GradientBoostingRegressor(random_state= 42),\n",
    "                        param_grid = parameters,\n",
    "                        scoring='neg_root_mean_squared_error',\n",
    "                        n_jobs = -1,\n",
    "                        cv = 5,\n",
    "                        verbose=5)\n",
    "\n",
    "xgb_grid.fit(X_train, y_train)"
   ]
  },
  {
   "cell_type": "code",
   "execution_count": 139,
   "metadata": {},
   "outputs": [
    {
     "data": {
      "text/plain": [
       "{'criterion': 'mse',\n",
       " 'loss': 'lad',\n",
       " 'max_features': 'sqrt',\n",
       " 'min_samples_leaf': 8,\n",
       " 'n_estimators': 300}"
      ]
     },
     "execution_count": 139,
     "metadata": {},
     "output_type": "execute_result"
    }
   ],
   "source": [
    "xgb_grid.best_params_"
   ]
  },
  {
   "cell_type": "code",
   "execution_count": 140,
   "metadata": {},
   "outputs": [],
   "source": [
    "coefficients = abs(xgb_grid.best_estimator_.feature_importances_)\n",
    "liste_coefs_rer = pd.concat((pd.DataFrame(X.columns, columns = ['Variable']), \n",
    "                      pd.DataFrame(coefficients, columns = ['Coefficient'])),\n",
    "                       axis = 1).sort_values(by='Coefficient',\n",
    "                                             ascending = False)"
   ]
  },
  {
   "cell_type": "code",
   "execution_count": 141,
   "metadata": {},
   "outputs": [
    {
     "data": {
      "image/png": "[encoded data removed]",
      "text/plain": [
       "<Figure size 576x576 with 1 Axes>"
      ]
     },
     "metadata": {
      "needs_background": "light"
     },
     "output_type": "display_data"
    }
   ],
   "source": [
    "plt.figure(figsize=(8,8))\n",
    "plt.title('XGBoost - Importance des 20 premières Features')\n",
    "sns.barplot(y = liste_coefs_rer['Variable'].head(20),\n",
    "            x = liste_coefs_rer['Coefficient'].head(20))\n",
    "plt.show()"
   ]
  },
  {
   "cell_type": "code",
   "execution_count": 142,
   "metadata": {},
   "outputs": [
    {
     "data": {
      "text/plain": [
       "-0.7833072128105417"
      ]
     },
     "execution_count": 142,
     "metadata": {},
     "output_type": "execute_result"
    }
   ],
   "source": [
    "xgb_grid.best_score_"
   ]
  },
  {
   "cell_type": "code",
   "execution_count": 143,
   "metadata": {},
   "outputs": [
    {
     "name": "stdout",
     "output_type": "stream",
     "text": [
      "1.62 ms ± 23 µs per loop (mean ± std. dev. of 7 runs, 1000 loops each)\n"
     ]
    }
   ],
   "source": [
    "rmse = mean_squared_error(y_test, xgb_grid.predict(X_test), squared=False)\n",
    "mae = mean_absolute_error(y_test, xgb_grid.predict(X_test))\n",
    "r_squared = r2_score(y_test, xgb_grid.predict(X_test))\n",
    "time = %timeit -o  xgb_grid.best_estimator_.predict(X_test)\n",
    "\n",
    "consommation_energy = consommation_energy.append(pd.DataFrame({'Modèle': ['XGBoost'],\n",
    "                                       'RMSE': rmse,\n",
    "                                       'MAE': mae,\n",
    "                                       'R²': r_squared,\n",
    "                                       'Time_ms': time.best*1000,\n",
    "                    'Cv_score(RMSE)': -1 * xgb_grid.best_score_}),\n",
    "                         ignore_index=True)"
   ]
  },
  {
   "cell_type": "code",
   "execution_count": 144,
   "metadata": {},
   "outputs": [
    {
     "data": {
      "text/html": [
       "<div>\n",
       "<style scoped>\n",
       "    .dataframe tbody tr th:only-of-type {\n",
       "        vertical-align: middle;\n",
       "    }\n",
       "\n",
       "    .dataframe tbody tr th {\n",
       "        vertical-align: top;\n",
       "    }\n",
       "\n",
       "    .dataframe thead th {\n",
       "        text-align: right;\n",
       "    }\n",
       "</style>\n",
       "<table border=\"1\" class=\"dataframe\">\n",
       "  <thead>\n",
       "    <tr style=\"text-align: right;\">\n",
       "      <th></th>\n",
       "      <th>Modèle</th>\n",
       "      <th>RMSE</th>\n",
       "      <th>MAE</th>\n",
       "      <th>R²</th>\n",
       "      <th>Time_ms</th>\n",
       "      <th>Cv_score(RMSE)</th>\n",
       "    </tr>\n",
       "  </thead>\n",
       "  <tbody>\n",
       "    <tr>\n",
       "      <th>0</th>\n",
       "      <td>LinearRegression</td>\n",
       "      <td>0.856278</td>\n",
       "      <td>0.643673</td>\n",
       "      <td>0.478290</td>\n",
       "      <td>0.609883</td>\n",
       "      <td>0.837471</td>\n",
       "    </tr>\n",
       "    <tr>\n",
       "      <th>1</th>\n",
       "      <td>SVR</td>\n",
       "      <td>0.729695</td>\n",
       "      <td>0.553269</td>\n",
       "      <td>0.621137</td>\n",
       "      <td>23.110310</td>\n",
       "      <td>0.793167</td>\n",
       "    </tr>\n",
       "    <tr>\n",
       "      <th>2</th>\n",
       "      <td>Random Forest Regressor</td>\n",
       "      <td>0.722297</td>\n",
       "      <td>0.522064</td>\n",
       "      <td>0.628780</td>\n",
       "      <td>18.997880</td>\n",
       "      <td>0.807690</td>\n",
       "    </tr>\n",
       "    <tr>\n",
       "      <th>3</th>\n",
       "      <td>XGBoost</td>\n",
       "      <td>0.718666</td>\n",
       "      <td>0.528532</td>\n",
       "      <td>0.632503</td>\n",
       "      <td>1.568572</td>\n",
       "      <td>0.783307</td>\n",
       "    </tr>\n",
       "  </tbody>\n",
       "</table>\n",
       "</div>"
      ],
      "text/plain": [
       "                    Modèle      RMSE       MAE        R²    Time_ms  \\\n",
       "0         LinearRegression  0.856278  0.643673  0.478290   0.609883   \n",
       "1                      SVR  0.729695  0.553269  0.621137  23.110310   \n",
       "2  Random Forest Regressor  0.722297  0.522064  0.628780  18.997880   \n",
       "3                  XGBoost  0.718666  0.528532  0.632503   1.568572   \n",
       "\n",
       "   Cv_score(RMSE)  \n",
       "0        0.837471  \n",
       "1        0.793167  \n",
       "2        0.807690  \n",
       "3        0.783307  "
      ]
     },
     "execution_count": 144,
     "metadata": {},
     "output_type": "execute_result"
    }
   ],
   "source": [
    "consommation_energy"
   ]
  },
  {
   "cell_type": "code",
   "execution_count": 145,
   "metadata": {},
   "outputs": [
    {
     "data": {
      "text/html": [
       "<div>\n",
       "<style scoped>\n",
       "    .dataframe tbody tr th:only-of-type {\n",
       "        vertical-align: middle;\n",
       "    }\n",
       "\n",
       "    .dataframe tbody tr th {\n",
       "        vertical-align: top;\n",
       "    }\n",
       "\n",
       "    .dataframe thead th {\n",
       "        text-align: right;\n",
       "    }\n",
       "</style>\n",
       "<table border=\"1\" class=\"dataframe\">\n",
       "  <thead>\n",
       "    <tr style=\"text-align: right;\">\n",
       "      <th></th>\n",
       "      <th>Modèle</th>\n",
       "      <th>RMSE</th>\n",
       "      <th>MAE</th>\n",
       "      <th>R²</th>\n",
       "      <th>Time_ms</th>\n",
       "      <th>Cv_score(RMSE)</th>\n",
       "    </tr>\n",
       "  </thead>\n",
       "  <tbody>\n",
       "    <tr>\n",
       "      <th>3</th>\n",
       "      <td>XGBoost</td>\n",
       "      <td>0.718666</td>\n",
       "      <td>0.528532</td>\n",
       "      <td>0.632503</td>\n",
       "      <td>1.568572</td>\n",
       "      <td>0.783307</td>\n",
       "    </tr>\n",
       "    <tr>\n",
       "      <th>2</th>\n",
       "      <td>Random Forest Regressor</td>\n",
       "      <td>0.722297</td>\n",
       "      <td>0.522064</td>\n",
       "      <td>0.628780</td>\n",
       "      <td>18.997880</td>\n",
       "      <td>0.807690</td>\n",
       "    </tr>\n",
       "    <tr>\n",
       "      <th>1</th>\n",
       "      <td>SVR</td>\n",
       "      <td>0.729695</td>\n",
       "      <td>0.553269</td>\n",
       "      <td>0.621137</td>\n",
       "      <td>23.110310</td>\n",
       "      <td>0.793167</td>\n",
       "    </tr>\n",
       "    <tr>\n",
       "      <th>0</th>\n",
       "      <td>LinearRegression</td>\n",
       "      <td>0.856278</td>\n",
       "      <td>0.643673</td>\n",
       "      <td>0.478290</td>\n",
       "      <td>0.609883</td>\n",
       "      <td>0.837471</td>\n",
       "    </tr>\n",
       "  </tbody>\n",
       "</table>\n",
       "</div>"
      ],
      "text/plain": [
       "                    Modèle      RMSE       MAE        R²    Time_ms  \\\n",
       "3                  XGBoost  0.718666  0.528532  0.632503   1.568572   \n",
       "2  Random Forest Regressor  0.722297  0.522064  0.628780  18.997880   \n",
       "1                      SVR  0.729695  0.553269  0.621137  23.110310   \n",
       "0         LinearRegression  0.856278  0.643673  0.478290   0.609883   \n",
       "\n",
       "   Cv_score(RMSE)  \n",
       "3        0.783307  \n",
       "2        0.807690  \n",
       "1        0.793167  \n",
       "0        0.837471  "
      ]
     },
     "execution_count": 145,
     "metadata": {},
     "output_type": "execute_result"
    }
   ],
   "source": [
    "consommation_energy = consommation_energy.sort_values(by='R²', ascending=False)\n",
    "consommation_energy"
   ]
  },
  {
   "cell_type": "markdown",
   "metadata": {},
   "source": [
    " #### - Le meilleur modèle choisi: XGBoost "
   ]
  },
  {
   "cell_type": "markdown",
   "metadata": {},
   "source": [
    "Nous allons choisir XGBoost, comme le meilleur modèle de prédiction de la consommation d’Energie"
   ]
  },
  {
   "cell_type": "code",
   "execution_count": 146,
   "metadata": {},
   "outputs": [],
   "source": [
    "comparaison = pd.melt(consommation_energy.reset_index(), id_vars = ['Modèle'], value_name = 'score', value_vars=[\"RMSE\",\"MAE\",\"R²\",\"Time_ms\"])"
   ]
  },
  {
   "cell_type": "code",
   "execution_count": 147,
   "metadata": {},
   "outputs": [
    {
     "data": {
      "text/plain": [
       "Text(0.5, 1.0, 'Comparaison des performances des modèles')"
      ]
     },
     "execution_count": 147,
     "metadata": {},
     "output_type": "execute_result"
    },
    {
     "data": {
      "image/png": "[encoded data removed]",
      "text/plain": [
       "<Figure size 864x432 with 1 Axes>"
      ]
     },
     "metadata": {
      "needs_background": "light"
     },
     "output_type": "display_data"
    }
   ],
   "source": [
    "plt.figure(figsize=(12,6))\n",
    "sns.barplot(x = comparaison['Modèle'],\n",
    "            y = comparaison['score'], hue = comparaison['variable'])\n",
    "plt.title('Comparaison des performances des modèles')"
   ]
  },
  {
   "cell_type": "code",
   "execution_count": 148,
   "metadata": {},
   "outputs": [
    {
     "data": {
      "text/plain": [
       "{'criterion': 'mse',\n",
       " 'loss': 'lad',\n",
       " 'max_features': 'sqrt',\n",
       " 'min_samples_leaf': 8,\n",
       " 'n_estimators': 300}"
      ]
     },
     "execution_count": 148,
     "metadata": {},
     "output_type": "execute_result"
    }
   ],
   "source": [
    "xgb_grid.best_params_"
   ]
  },
  {
   "cell_type": "markdown",
   "metadata": {},
   "source": [
    "#### sauvegarde les paramètres de meilleur modèle "
   ]
  },
  {
   "cell_type": "code",
   "execution_count": 149,
   "metadata": {},
   "outputs": [
    {
     "data": {
      "text/plain": [
       "['best_param_xgb_consomation.sav']"
      ]
     },
     "execution_count": 149,
     "metadata": {},
     "output_type": "execute_result"
    }
   ],
   "source": [
    "best_param = xgb_grid.best_params_\n",
    "\n",
    "for i in best_param:\n",
    "  best_param[i] = list([best_param[i]])\n",
    "\n",
    "joblib.dump(best_param, 'best_param_xgb_consomation.sav')"
   ]
  },
  {
   "cell_type": "markdown",
   "metadata": {},
   "source": [
    "#### <span style='color:blue'> 4.Prédiction de l’émission de CO2 (TotalGHGEmissions) </span>"
   ]
  },
  {
   "cell_type": "code",
   "execution_count": 150,
   "metadata": {},
   "outputs": [
    {
     "name": "stdout",
     "output_type": "stream",
     "text": [
      "Entrainement: 1247 lignes,\n",
      "Test: 312 lignes.\n",
      "\n"
     ]
    }
   ],
   "source": [
    "X_train, X_test, y_train, y_test = train_test_split(X,y['TotalGHGEmissions'],\n",
    "                                         test_size=0.20,\n",
    "                                         shuffle=True, # mélanger les données avant de les diviser\n",
    "                                         random_state=42,\n",
    "                                         )\n",
    "print(\"Entrainement: {} lignes,\\nTest: {} lignes.\\n\".format(X_train.shape[0],\n",
    "                                                            X_test.shape[0]))"
   ]
  },
  {
   "cell_type": "markdown",
   "metadata": {},
   "source": [
    "#### <span style='color:orange'> 4.1. Modèle ElasticNet (TotalGHGEmissions) </span>"
   ]
  },
  {
   "cell_type": "code",
   "execution_count": 151,
   "metadata": {},
   "outputs": [
    {
     "name": "stderr",
     "output_type": "stream",
     "text": [
      "C:\\Users\\sahel\\anaconda3\\lib\\site-packages\\sklearn\\linear_model\\_coordinate_descent.py:530: ConvergenceWarning: Objective did not converge. You might want to increase the number of iterations. Duality gap: 94.52796740619681, tolerance: 19.65206459893834\n",
      "  model = cd_fast.enet_coordinate_descent(\n"
     ]
    },
    {
     "data": {
      "text/plain": [
       "GridSearchCV(cv=5, estimator=ElasticNet(random_state=42), n_jobs=-1,\n",
       "             param_grid={'alpha': [0.0001, 0.001, 0.01, 0.1, 1, 10, 100],\n",
       "                         'l1_ratio': array([0. , 0.1, 0.2, 0.3, 0.4, 0.5, 0.6, 0.7, 0.8, 0.9]),\n",
       "                         'tol': [0.1, 0.01, 0.001, 0.0001]},\n",
       "             scoring='neg_root_mean_squared_error')"
      ]
     },
     "execution_count": 151,
     "metadata": {},
     "output_type": "execute_result"
    }
   ],
   "source": [
    "parameters = {'tol' : [0.1,0.01,0.001,0.0001],  #critères d'arrêt\n",
    "              # arrêt de rechercher un minimum (ou un maximum) une fois qu'une certaine tolérance est atteinte, \n",
    "              \"alpha\": [0.0001, 0.001, 0.01, 0.1, 1, 10, 100], \n",
    "              \"l1_ratio\": np.arange(0.0, 1.0, 0.1)}  \n",
    "\n",
    "\n",
    "elastic_grid = GridSearchCV(estimator = ElasticNet(random_state= 42), \n",
    "                            param_grid = parameters,\n",
    "                            scoring='neg_root_mean_squared_error',\n",
    "                            n_jobs=-1, #  le nombre de processus (tous les processeurs seront utilisés)\n",
    "                            cv=5,\n",
    "                            verbose=0\n",
    "                            )\n",
    "\n",
    "elastic_grid.fit(X_train, y_train)"
   ]
  },
  {
   "cell_type": "code",
   "execution_count": 152,
   "metadata": {},
   "outputs": [
    {
     "data": {
      "text/plain": [
       "{'alpha': 0.0001, 'l1_ratio': 0.2, 'tol': 0.01}"
      ]
     },
     "execution_count": 152,
     "metadata": {},
     "output_type": "execute_result"
    }
   ],
   "source": [
    "elastic_grid.best_params_"
   ]
  },
  {
   "cell_type": "code",
   "execution_count": 153,
   "metadata": {},
   "outputs": [
    {
     "name": "stdout",
     "output_type": "stream",
     "text": [
      "607 µs ± 8.09 µs per loop (mean ± std. dev. of 7 runs, 1000 loops each)\n"
     ]
    }
   ],
   "source": [
    "emissions_CO2 = pd.DataFrame({})\n",
    "\n",
    "rmse = mean_squared_error(y_test, elastic_grid.predict(X_test), squared=False)\n",
    "mae = mean_absolute_error(y_test, elastic_grid.predict(X_test))\n",
    "r_squared = r2_score(y_test, elastic_grid.predict(X_test))\n",
    "time = %timeit -o elastic_grid.best_estimator_.predict(X_test)\n",
    "\n",
    "emissions_CO2 = emissions_CO2.append(pd.DataFrame({'Modèle': ['LinearRegression'],\n",
    "                                       'RMSE': rmse,\n",
    "                                       'MAE': mae,\n",
    "                                       'R²': r_squared,\n",
    "                                       'Time_ms': time.best*1000,\n",
    "                'Cv_score(RMSE)': -1 * elastic_grid.best_score_}),\n",
    "                         ignore_index=True)"
   ]
  },
  {
   "cell_type": "code",
   "execution_count": 154,
   "metadata": {},
   "outputs": [
    {
     "data": {
      "text/html": [
       "<div>\n",
       "<style scoped>\n",
       "    .dataframe tbody tr th:only-of-type {\n",
       "        vertical-align: middle;\n",
       "    }\n",
       "\n",
       "    .dataframe tbody tr th {\n",
       "        vertical-align: top;\n",
       "    }\n",
       "\n",
       "    .dataframe thead th {\n",
       "        text-align: right;\n",
       "    }\n",
       "</style>\n",
       "<table border=\"1\" class=\"dataframe\">\n",
       "  <thead>\n",
       "    <tr style=\"text-align: right;\">\n",
       "      <th></th>\n",
       "      <th>Modèle</th>\n",
       "      <th>RMSE</th>\n",
       "      <th>MAE</th>\n",
       "      <th>R²</th>\n",
       "      <th>Time_ms</th>\n",
       "      <th>Cv_score(RMSE)</th>\n",
       "    </tr>\n",
       "  </thead>\n",
       "  <tbody>\n",
       "    <tr>\n",
       "      <th>0</th>\n",
       "      <td>LinearRegression</td>\n",
       "      <td>1.123046</td>\n",
       "      <td>0.888573</td>\n",
       "      <td>0.262111</td>\n",
       "      <td>0.597614</td>\n",
       "      <td>0.978264</td>\n",
       "    </tr>\n",
       "  </tbody>\n",
       "</table>\n",
       "</div>"
      ],
      "text/plain": [
       "             Modèle      RMSE       MAE        R²   Time_ms  Cv_score(RMSE)\n",
       "0  LinearRegression  1.123046  0.888573  0.262111  0.597614        0.978264"
      ]
     },
     "execution_count": 154,
     "metadata": {},
     "output_type": "execute_result"
    }
   ],
   "source": [
    "emissions_CO2"
   ]
  },
  {
   "cell_type": "markdown",
   "metadata": {},
   "source": [
    "#### Coefficients de Elastic_Net"
   ]
  },
  {
   "cell_type": "code",
   "execution_count": 155,
   "metadata": {},
   "outputs": [
    {
     "data": {
      "text/plain": [
       "Text(0.5, 1.0, 'coefficients de Elastic_Net')"
      ]
     },
     "execution_count": 155,
     "metadata": {},
     "output_type": "execute_result"
    },
    {
     "data": {
      "image/png": "[encoded data removed]",
      "text/plain": [
       "<Figure size 576x864 with 1 Axes>"
      ]
     },
     "metadata": {
      "needs_background": "light"
     },
     "output_type": "display_data"
    }
   ],
   "source": [
    "elastic_Coef=pd.DataFrame({'Feature': X_test.columns,\n",
    "              'Coef': elastic_grid.best_estimator_.coef_})\n",
    "\n",
    "plt.figure(figsize=(8,12))\n",
    "sns.barplot(x = elastic_Coef['Coef'],\n",
    "            y = elastic_Coef['Feature'])\n",
    "plt.title('coefficients de Elastic_Net')"
   ]
  },
  {
   "cell_type": "markdown",
   "metadata": {},
   "source": [
    "#### <span style='color:orange '> 4.2.Modèle Support Vector Machine (SVM)- (TotalGHGEmissions) </span>"
   ]
  },
  {
   "cell_type": "code",
   "execution_count": 156,
   "metadata": {},
   "outputs": [
    {
     "name": "stdout",
     "output_type": "stream",
     "text": [
      "Fitting 5 folds for each of 160 candidates, totalling 800 fits\n"
     ]
    },
    {
     "data": {
      "text/plain": [
       "GridSearchCV(cv=5, estimator=SVR(), n_jobs=-1,\n",
       "             param_grid={'C': [0.001, 0.01, 0.1, 1, 10],\n",
       "                         'epsilon': [0.001, 0.01, 0.1, 1],\n",
       "                         'gamma': [1e-08, 1e-07, 1e-06, 1e-05, 0.0001, 0.001,\n",
       "                                   0.01, 0.1]},\n",
       "             scoring='neg_root_mean_squared_error', verbose=5)"
      ]
     },
     "execution_count": 156,
     "metadata": {},
     "output_type": "execute_result"
    }
   ],
   "source": [
    "parameters = {'gamma' : [1e-8, 1e-7, 1e-6, 1e-5, 1e-4, 1e-3, 1e-2, 1e-1], #kernel coefficient [ici kernel = Radial Basis Function]\n",
    "              'epsilon' : [0.001, 0.01, 0.1, 1], #erreur tolérée par l'algorithme\n",
    "              'C' : [0.001, 0.01, 0.1, 1, 10]} #parametre de régularisation\n",
    "\n",
    "svm = GridSearchCV(estimator = SVR(),\n",
    "                      param_grid = parameters,\n",
    "                      scoring='neg_root_mean_squared_error',\n",
    "                      n_jobs=-1,\n",
    "                      cv=5,\n",
    "                      verbose=5\n",
    "                     )\n",
    "\n",
    "svm.fit(X_train, y_train)"
   ]
  },
  {
   "cell_type": "code",
   "execution_count": 157,
   "metadata": {},
   "outputs": [
    {
     "data": {
      "text/plain": [
       "{'C': 10, 'epsilon': 0.1, 'gamma': 0.01}"
      ]
     },
     "execution_count": 157,
     "metadata": {},
     "output_type": "execute_result"
    }
   ],
   "source": [
    "svm.best_params_"
   ]
  },
  {
   "cell_type": "code",
   "execution_count": 158,
   "metadata": {},
   "outputs": [
    {
     "name": "stdout",
     "output_type": "stream",
     "text": [
      "25.6 ms ± 618 µs per loop (mean ± std. dev. of 7 runs, 10 loops each)\n"
     ]
    }
   ],
   "source": [
    "rmse = mean_squared_error(y_test, svm.predict(X_test), squared=False)\n",
    "mae = mean_absolute_error(y_test, svm.predict(X_test))\n",
    "r_squared = r2_score(y_test, svm.predict(X_test))\n",
    "time = %timeit -o  svm.best_estimator_.predict(X_test)\n",
    "\n",
    "emissions_CO2 = emissions_CO2.append(pd.DataFrame({'Modèle': ['SVR'],\n",
    "                                       'RMSE': rmse,\n",
    "                                       'MAE': mae,\n",
    "                                       'R²': r_squared,\n",
    "                                       'Time_ms': time.best*1000,\n",
    "                    'Cv_score(RMSE)': -1 * svm.best_score_}),\n",
    "                         ignore_index=True)"
   ]
  },
  {
   "cell_type": "code",
   "execution_count": 159,
   "metadata": {},
   "outputs": [
    {
     "data": {
      "text/html": [
       "<div>\n",
       "<style scoped>\n",
       "    .dataframe tbody tr th:only-of-type {\n",
       "        vertical-align: middle;\n",
       "    }\n",
       "\n",
       "    .dataframe tbody tr th {\n",
       "        vertical-align: top;\n",
       "    }\n",
       "\n",
       "    .dataframe thead th {\n",
       "        text-align: right;\n",
       "    }\n",
       "</style>\n",
       "<table border=\"1\" class=\"dataframe\">\n",
       "  <thead>\n",
       "    <tr style=\"text-align: right;\">\n",
       "      <th></th>\n",
       "      <th>Modèle</th>\n",
       "      <th>RMSE</th>\n",
       "      <th>MAE</th>\n",
       "      <th>R²</th>\n",
       "      <th>Time_ms</th>\n",
       "      <th>Cv_score(RMSE)</th>\n",
       "    </tr>\n",
       "  </thead>\n",
       "  <tbody>\n",
       "    <tr>\n",
       "      <th>0</th>\n",
       "      <td>LinearRegression</td>\n",
       "      <td>1.123046</td>\n",
       "      <td>0.888573</td>\n",
       "      <td>0.262111</td>\n",
       "      <td>0.597614</td>\n",
       "      <td>0.978264</td>\n",
       "    </tr>\n",
       "    <tr>\n",
       "      <th>1</th>\n",
       "      <td>SVR</td>\n",
       "      <td>1.032626</td>\n",
       "      <td>0.808189</td>\n",
       "      <td>0.376147</td>\n",
       "      <td>24.941490</td>\n",
       "      <td>0.952074</td>\n",
       "    </tr>\n",
       "  </tbody>\n",
       "</table>\n",
       "</div>"
      ],
      "text/plain": [
       "             Modèle      RMSE       MAE        R²    Time_ms  Cv_score(RMSE)\n",
       "0  LinearRegression  1.123046  0.888573  0.262111   0.597614        0.978264\n",
       "1               SVR  1.032626  0.808189  0.376147  24.941490        0.952074"
      ]
     },
     "execution_count": 159,
     "metadata": {},
     "output_type": "execute_result"
    }
   ],
   "source": [
    "emissions_CO2"
   ]
  },
  {
   "cell_type": "markdown",
   "metadata": {},
   "source": [
    "#### <span style='color:orange'> 4.3. Modèle Random Forest Regressor (TotalGHGEmissions)</span>"
   ]
  },
  {
   "cell_type": "code",
   "execution_count": 160,
   "metadata": {},
   "outputs": [
    {
     "name": "stdout",
     "output_type": "stream",
     "text": [
      "Fitting 5 folds for each of 18 candidates, totalling 90 fits\n"
     ]
    },
    {
     "data": {
      "text/plain": [
       "GridSearchCV(cv=5, estimator=RandomForestRegressor(random_state=42), n_jobs=-1,\n",
       "             param_grid={'max_features': ['auto', 'sqrt'],\n",
       "                         'min_samples_leaf': [1, 2, 5],\n",
       "                         'n_estimators': [100, 300, 500]},\n",
       "             scoring='neg_root_mean_squared_error', verbose=5)"
      ]
     },
     "execution_count": 160,
     "metadata": {},
     "output_type": "execute_result"
    }
   ],
   "source": [
    "parameters = {\n",
    "    'n_estimators' : [100, 300, 500],  #nombre d'arbres de décision\n",
    "  \n",
    "    'min_samples_leaf' : [1, 2, 5], \n",
    "    #nombre de feuilles minimales dans un noeud\n",
    "    'max_features': ['auto', 'sqrt'] \n",
    "    #nombre de features observées par arbre\n",
    "}\n",
    "\n",
    "R_Forest_grid = GridSearchCV(RandomForestRegressor(random_state=42),\n",
    "                        param_grid=parameters,\n",
    "                        scoring='neg_root_mean_squared_error',\n",
    "                        n_jobs=-1,\n",
    "                        verbose=5,\n",
    "                        cv=5)\n",
    "\n",
    "R_Forest_grid.fit(X_train, y_train)"
   ]
  },
  {
   "cell_type": "code",
   "execution_count": 161,
   "metadata": {},
   "outputs": [
    {
     "data": {
      "text/plain": [
       "{'max_features': 'sqrt', 'min_samples_leaf': 2, 'n_estimators': 500}"
      ]
     },
     "execution_count": 161,
     "metadata": {},
     "output_type": "execute_result"
    }
   ],
   "source": [
    "R_Forest_grid.best_params_"
   ]
  },
  {
   "cell_type": "code",
   "execution_count": 162,
   "metadata": {},
   "outputs": [],
   "source": [
    "coefficients = abs(R_Forest_grid.best_estimator_.feature_importances_)\n",
    "liste_coefs_rer = pd.concat((pd.DataFrame(X.columns, columns = ['Variable']), \n",
    "                      pd.DataFrame(coefficients, columns = ['Coefficient'])), axis = 1).sort_values(by='Coefficient', ascending = False)"
   ]
  },
  {
   "cell_type": "code",
   "execution_count": 163,
   "metadata": {},
   "outputs": [
    {
     "data": {
      "image/png": "[encoded data removed]",
      "text/plain": [
       "<Figure size 576x576 with 1 Axes>"
      ]
     },
     "metadata": {
      "needs_background": "light"
     },
     "output_type": "display_data"
    }
   ],
   "source": [
    "plt.figure(figsize=(8,8))\n",
    "plt.title('RandomForestRegressor - Importance des 20 premières Features')\n",
    "sns.barplot(y = liste_coefs_rer['Variable'].head(20),\n",
    "            x = liste_coefs_rer['Coefficient'].head(20))\n",
    "plt.show()"
   ]
  },
  {
   "cell_type": "code",
   "execution_count": 164,
   "metadata": {},
   "outputs": [
    {
     "data": {
      "text/plain": [
       "-0.9435099222918517"
      ]
     },
     "execution_count": 164,
     "metadata": {},
     "output_type": "execute_result"
    }
   ],
   "source": [
    "R_Forest_grid.best_score_"
   ]
  },
  {
   "cell_type": "code",
   "execution_count": 165,
   "metadata": {},
   "outputs": [
    {
     "name": "stdout",
     "output_type": "stream",
     "text": [
      "34.7 ms ± 868 µs per loop (mean ± std. dev. of 7 runs, 10 loops each)\n"
     ]
    }
   ],
   "source": [
    "rmse = mean_squared_error(y_test, R_Forest_grid.predict(X_test), squared=False)\n",
    "mae = mean_absolute_error(y_test, R_Forest_grid.predict(X_test))\n",
    "r_squared = r2_score(y_test, R_Forest_grid.predict(X_test))\n",
    "time = %timeit -o  R_Forest_grid.best_estimator_.predict(X_test)\n",
    "emissions_CO2 = emissions_CO2.append(pd.DataFrame({'Modèle': ['Random Forest Regressor'],\n",
    "                                       'RMSE': rmse,\n",
    "                                       'MAE': mae,\n",
    "                                       'R²': r_squared,\n",
    "                                       'Time_ms': time.best*1000,\n",
    "                    'Cv_score(RMSE)': -1 * R_Forest_grid.best_score_}),\n",
    "                         ignore_index=True)"
   ]
  },
  {
   "cell_type": "code",
   "execution_count": 166,
   "metadata": {},
   "outputs": [
    {
     "data": {
      "text/html": [
       "<div>\n",
       "<style scoped>\n",
       "    .dataframe tbody tr th:only-of-type {\n",
       "        vertical-align: middle;\n",
       "    }\n",
       "\n",
       "    .dataframe tbody tr th {\n",
       "        vertical-align: top;\n",
       "    }\n",
       "\n",
       "    .dataframe thead th {\n",
       "        text-align: right;\n",
       "    }\n",
       "</style>\n",
       "<table border=\"1\" class=\"dataframe\">\n",
       "  <thead>\n",
       "    <tr style=\"text-align: right;\">\n",
       "      <th></th>\n",
       "      <th>Modèle</th>\n",
       "      <th>RMSE</th>\n",
       "      <th>MAE</th>\n",
       "      <th>R²</th>\n",
       "      <th>Time_ms</th>\n",
       "      <th>Cv_score(RMSE)</th>\n",
       "    </tr>\n",
       "  </thead>\n",
       "  <tbody>\n",
       "    <tr>\n",
       "      <th>0</th>\n",
       "      <td>LinearRegression</td>\n",
       "      <td>1.123046</td>\n",
       "      <td>0.888573</td>\n",
       "      <td>0.262111</td>\n",
       "      <td>0.597614</td>\n",
       "      <td>0.978264</td>\n",
       "    </tr>\n",
       "    <tr>\n",
       "      <th>1</th>\n",
       "      <td>SVR</td>\n",
       "      <td>1.032626</td>\n",
       "      <td>0.808189</td>\n",
       "      <td>0.376147</td>\n",
       "      <td>24.941490</td>\n",
       "      <td>0.952074</td>\n",
       "    </tr>\n",
       "    <tr>\n",
       "      <th>2</th>\n",
       "      <td>Random Forest Regressor</td>\n",
       "      <td>0.967798</td>\n",
       "      <td>0.757492</td>\n",
       "      <td>0.452019</td>\n",
       "      <td>33.908550</td>\n",
       "      <td>0.943510</td>\n",
       "    </tr>\n",
       "  </tbody>\n",
       "</table>\n",
       "</div>"
      ],
      "text/plain": [
       "                    Modèle      RMSE       MAE        R²    Time_ms  \\\n",
       "0         LinearRegression  1.123046  0.888573  0.262111   0.597614   \n",
       "1                      SVR  1.032626  0.808189  0.376147  24.941490   \n",
       "2  Random Forest Regressor  0.967798  0.757492  0.452019  33.908550   \n",
       "\n",
       "   Cv_score(RMSE)  \n",
       "0        0.978264  \n",
       "1        0.952074  \n",
       "2        0.943510  "
      ]
     },
     "execution_count": 166,
     "metadata": {},
     "output_type": "execute_result"
    }
   ],
   "source": [
    "emissions_CO2"
   ]
  },
  {
   "cell_type": "markdown",
   "metadata": {},
   "source": [
    "#### <span style='color:orange'> 4.4. Modèle XGBoost (TotalGHGEmissions)</span>"
   ]
  },
  {
   "cell_type": "code",
   "execution_count": 167,
   "metadata": {},
   "outputs": [
    {
     "name": "stdout",
     "output_type": "stream",
     "text": [
      "Fitting 5 folds for each of 60 candidates, totalling 300 fits\n"
     ]
    },
    {
     "data": {
      "text/plain": [
       "GridSearchCV(cv=5, estimator=GradientBoostingRegressor(random_state=0),\n",
       "             n_jobs=-1,\n",
       "             param_grid={'criterion': ['mse'], 'loss': ['ls', 'lad'],\n",
       "                         'max_features': ['auto', 'sqrt'],\n",
       "                         'min_samples_leaf': [1, 2, 5, 8, 12],\n",
       "                         'n_estimators': [100, 200, 300]},\n",
       "             scoring='neg_root_mean_squared_error', verbose=5)"
      ]
     },
     "execution_count": 167,
     "metadata": {},
     "output_type": "execute_result"
    }
   ],
   "source": [
    "parameters = {\n",
    "    'loss': ['ls', 'lad'],\n",
    "    'n_estimators': [100, 200, 300],\n",
    "    'min_samples_leaf': [1, 2, 5, 8, 12],\n",
    "    'max_features': ['auto', 'sqrt'],\n",
    "    'criterion': ['mse'],\n",
    "}\n",
    "\n",
    "xgb_grid_co2 = GridSearchCV(GradientBoostingRegressor(random_state=0),\n",
    "                        param_grid = parameters,\n",
    "                        scoring='neg_root_mean_squared_error',\n",
    "                        n_jobs = -1,\n",
    "                        cv = 5,\n",
    "                        verbose=5)\n",
    "\n",
    "xgb_grid_co2.fit(X_train, y_train)"
   ]
  },
  {
   "cell_type": "code",
   "execution_count": 168,
   "metadata": {},
   "outputs": [
    {
     "data": {
      "text/plain": [
       "{'criterion': 'mse',\n",
       " 'loss': 'lad',\n",
       " 'max_features': 'auto',\n",
       " 'min_samples_leaf': 8,\n",
       " 'n_estimators': 200}"
      ]
     },
     "execution_count": 168,
     "metadata": {},
     "output_type": "execute_result"
    }
   ],
   "source": [
    "xgb_grid_co2.best_params_"
   ]
  },
  {
   "cell_type": "code",
   "execution_count": 169,
   "metadata": {},
   "outputs": [],
   "source": [
    "coefficients = abs(xgb_grid_co2.best_estimator_.feature_importances_)\n",
    "liste_coefs_rer = pd.concat((pd.DataFrame(X.columns, columns = ['Variable']), \n",
    "                      pd.DataFrame(coefficients, columns = ['Coefficient'])),\n",
    "                       axis = 1).sort_values(by='Coefficient',\n",
    "                                             ascending = False)"
   ]
  },
  {
   "cell_type": "code",
   "execution_count": 170,
   "metadata": {},
   "outputs": [
    {
     "data": {
      "image/png": "[encoded data removed]",
      "text/plain": [
       "<Figure size 576x576 with 1 Axes>"
      ]
     },
     "metadata": {
      "needs_background": "light"
     },
     "output_type": "display_data"
    }
   ],
   "source": [
    "plt.figure(figsize=(8,8))\n",
    "plt.title('XGBoost - Importance des 20 premières Features')\n",
    "sns.barplot(y = liste_coefs_rer['Variable'].head(20),\n",
    "            x = liste_coefs_rer['Coefficient'].head(20))\n",
    "plt.show()"
   ]
  },
  {
   "cell_type": "code",
   "execution_count": 171,
   "metadata": {},
   "outputs": [
    {
     "name": "stdout",
     "output_type": "stream",
     "text": [
      "1.34 ms ± 36.4 µs per loop (mean ± std. dev. of 7 runs, 1000 loops each)\n"
     ]
    }
   ],
   "source": [
    "rmse = mean_squared_error(y_test, xgb_grid_co2.predict(X_test), squared=False)\n",
    "mae = mean_absolute_error(y_test, xgb_grid_co2.predict(X_test))\n",
    "r_squared = r2_score(y_test, xgb_grid_co2.predict(X_test))\n",
    "time = %timeit -o  xgb_grid_co2.best_estimator_.predict(X_test)\n",
    "\n",
    "emissions_CO2 = emissions_CO2.append(pd.DataFrame({'Modèle': ['XGBoost'],\n",
    "                                       'RMSE': rmse,\n",
    "                                       'MAE': mae,\n",
    "                                       'R²': r_squared,\n",
    "                                       'Time_ms': time.best*1000,\n",
    "                    'Cv_score(RMSE)': -1 * xgb_grid_co2.best_score_}),\n",
    "                         ignore_index=True)"
   ]
  },
  {
   "cell_type": "code",
   "execution_count": 172,
   "metadata": {},
   "outputs": [
    {
     "data": {
      "text/html": [
       "<div>\n",
       "<style scoped>\n",
       "    .dataframe tbody tr th:only-of-type {\n",
       "        vertical-align: middle;\n",
       "    }\n",
       "\n",
       "    .dataframe tbody tr th {\n",
       "        vertical-align: top;\n",
       "    }\n",
       "\n",
       "    .dataframe thead th {\n",
       "        text-align: right;\n",
       "    }\n",
       "</style>\n",
       "<table border=\"1\" class=\"dataframe\">\n",
       "  <thead>\n",
       "    <tr style=\"text-align: right;\">\n",
       "      <th></th>\n",
       "      <th>Modèle</th>\n",
       "      <th>RMSE</th>\n",
       "      <th>MAE</th>\n",
       "      <th>R²</th>\n",
       "      <th>Time_ms</th>\n",
       "      <th>Cv_score(RMSE)</th>\n",
       "    </tr>\n",
       "  </thead>\n",
       "  <tbody>\n",
       "    <tr>\n",
       "      <th>0</th>\n",
       "      <td>LinearRegression</td>\n",
       "      <td>1.123046</td>\n",
       "      <td>0.888573</td>\n",
       "      <td>0.262111</td>\n",
       "      <td>0.597614</td>\n",
       "      <td>0.978264</td>\n",
       "    </tr>\n",
       "    <tr>\n",
       "      <th>1</th>\n",
       "      <td>SVR</td>\n",
       "      <td>1.032626</td>\n",
       "      <td>0.808189</td>\n",
       "      <td>0.376147</td>\n",
       "      <td>24.941490</td>\n",
       "      <td>0.952074</td>\n",
       "    </tr>\n",
       "    <tr>\n",
       "      <th>2</th>\n",
       "      <td>Random Forest Regressor</td>\n",
       "      <td>0.967798</td>\n",
       "      <td>0.757492</td>\n",
       "      <td>0.452019</td>\n",
       "      <td>33.908550</td>\n",
       "      <td>0.943510</td>\n",
       "    </tr>\n",
       "    <tr>\n",
       "      <th>3</th>\n",
       "      <td>XGBoost</td>\n",
       "      <td>1.004343</td>\n",
       "      <td>0.765163</td>\n",
       "      <td>0.409853</td>\n",
       "      <td>1.289430</td>\n",
       "      <td>0.940137</td>\n",
       "    </tr>\n",
       "  </tbody>\n",
       "</table>\n",
       "</div>"
      ],
      "text/plain": [
       "                    Modèle      RMSE       MAE        R²    Time_ms  \\\n",
       "0         LinearRegression  1.123046  0.888573  0.262111   0.597614   \n",
       "1                      SVR  1.032626  0.808189  0.376147  24.941490   \n",
       "2  Random Forest Regressor  0.967798  0.757492  0.452019  33.908550   \n",
       "3                  XGBoost  1.004343  0.765163  0.409853   1.289430   \n",
       "\n",
       "   Cv_score(RMSE)  \n",
       "0        0.978264  \n",
       "1        0.952074  \n",
       "2        0.943510  \n",
       "3        0.940137  "
      ]
     },
     "execution_count": 172,
     "metadata": {},
     "output_type": "execute_result"
    }
   ],
   "source": [
    "emissions_CO2"
   ]
  },
  {
   "cell_type": "code",
   "execution_count": 173,
   "metadata": {},
   "outputs": [
    {
     "data": {
      "text/html": [
       "<div>\n",
       "<style scoped>\n",
       "    .dataframe tbody tr th:only-of-type {\n",
       "        vertical-align: middle;\n",
       "    }\n",
       "\n",
       "    .dataframe tbody tr th {\n",
       "        vertical-align: top;\n",
       "    }\n",
       "\n",
       "    .dataframe thead th {\n",
       "        text-align: right;\n",
       "    }\n",
       "</style>\n",
       "<table border=\"1\" class=\"dataframe\">\n",
       "  <thead>\n",
       "    <tr style=\"text-align: right;\">\n",
       "      <th></th>\n",
       "      <th>Modèle</th>\n",
       "      <th>RMSE</th>\n",
       "      <th>MAE</th>\n",
       "      <th>R²</th>\n",
       "      <th>Time_ms</th>\n",
       "      <th>Cv_score(RMSE)</th>\n",
       "    </tr>\n",
       "  </thead>\n",
       "  <tbody>\n",
       "    <tr>\n",
       "      <th>2</th>\n",
       "      <td>Random Forest Regressor</td>\n",
       "      <td>0.967798</td>\n",
       "      <td>0.757492</td>\n",
       "      <td>0.452019</td>\n",
       "      <td>33.908550</td>\n",
       "      <td>0.943510</td>\n",
       "    </tr>\n",
       "    <tr>\n",
       "      <th>3</th>\n",
       "      <td>XGBoost</td>\n",
       "      <td>1.004343</td>\n",
       "      <td>0.765163</td>\n",
       "      <td>0.409853</td>\n",
       "      <td>1.289430</td>\n",
       "      <td>0.940137</td>\n",
       "    </tr>\n",
       "    <tr>\n",
       "      <th>1</th>\n",
       "      <td>SVR</td>\n",
       "      <td>1.032626</td>\n",
       "      <td>0.808189</td>\n",
       "      <td>0.376147</td>\n",
       "      <td>24.941490</td>\n",
       "      <td>0.952074</td>\n",
       "    </tr>\n",
       "    <tr>\n",
       "      <th>0</th>\n",
       "      <td>LinearRegression</td>\n",
       "      <td>1.123046</td>\n",
       "      <td>0.888573</td>\n",
       "      <td>0.262111</td>\n",
       "      <td>0.597614</td>\n",
       "      <td>0.978264</td>\n",
       "    </tr>\n",
       "  </tbody>\n",
       "</table>\n",
       "</div>"
      ],
      "text/plain": [
       "                    Modèle      RMSE       MAE        R²    Time_ms  \\\n",
       "2  Random Forest Regressor  0.967798  0.757492  0.452019  33.908550   \n",
       "3                  XGBoost  1.004343  0.765163  0.409853   1.289430   \n",
       "1                      SVR  1.032626  0.808189  0.376147  24.941490   \n",
       "0         LinearRegression  1.123046  0.888573  0.262111   0.597614   \n",
       "\n",
       "   Cv_score(RMSE)  \n",
       "2        0.943510  \n",
       "3        0.940137  \n",
       "1        0.952074  \n",
       "0        0.978264  "
      ]
     },
     "execution_count": 173,
     "metadata": {},
     "output_type": "execute_result"
    }
   ],
   "source": [
    "emissions_CO2 = emissions_CO2.sort_values(by='R²', ascending=False)\n",
    "emissions_CO2"
   ]
  },
  {
   "cell_type": "markdown",
   "metadata": {},
   "source": [
    "Les modèles XGBoost et Random Forest Regressor offrent des performances à peu près similaires pour la qualité des prédictions mais les temps de calculs sont meilleurs sur le modèle XGBoost."
   ]
  },
  {
   "cell_type": "code",
   "execution_count": 174,
   "metadata": {},
   "outputs": [],
   "source": [
    "comparaison = pd.melt(emissions_CO2.reset_index(), id_vars = ['Modèle'], value_name = 'score', value_vars=[\"RMSE\",\"MAE\",\"R²\",\"Time_ms\"])"
   ]
  },
  {
   "cell_type": "code",
   "execution_count": 175,
   "metadata": {},
   "outputs": [
    {
     "data": {
      "text/plain": [
       "Text(0.5, 1.0, 'Comparaison des performances des modèles')"
      ]
     },
     "execution_count": 175,
     "metadata": {},
     "output_type": "execute_result"
    },
    {
     "data": {
      "image/png": "[encoded data removed]",
      "text/plain": [
       "<Figure size 864x432 with 1 Axes>"
      ]
     },
     "metadata": {
      "needs_background": "light"
     },
     "output_type": "display_data"
    }
   ],
   "source": [
    "plt.figure(figsize=(12,6))\n",
    "sns.barplot(x = comparaison['Modèle'],\n",
    "            y = comparaison['score'], hue = comparaison['variable'])\n",
    "plt.title('Comparaison des performances des modèles')"
   ]
  },
  {
   "cell_type": "markdown",
   "metadata": {},
   "source": [
    "Avec la projection graphique ci-dessus, on constate que le modèle XGBoost offre le meilleur compromis score / temps. \n",
    "\n",
    "- Le modèle retenu pour la modélisation de la variable TotalGHGEmissions est donc le modèle XGBoost."
   ]
  },
  {
   "cell_type": "code",
   "execution_count": 176,
   "metadata": {},
   "outputs": [
    {
     "data": {
      "text/plain": [
       "{'criterion': 'mse',\n",
       " 'loss': 'lad',\n",
       " 'max_features': 'auto',\n",
       " 'min_samples_leaf': 8,\n",
       " 'n_estimators': 200}"
      ]
     },
     "execution_count": 176,
     "metadata": {},
     "output_type": "execute_result"
    }
   ],
   "source": [
    "xgb_grid_co2.best_params_"
   ]
  },
  {
   "cell_type": "markdown",
   "metadata": {},
   "source": [
    "#### sauvegarde les paramètres de meilleur modèle"
   ]
  },
  {
   "cell_type": "code",
   "execution_count": 177,
   "metadata": {},
   "outputs": [
    {
     "data": {
      "text/plain": [
       "['best_param_xgb_CO2.sav']"
      ]
     },
     "execution_count": 177,
     "metadata": {},
     "output_type": "execute_result"
    }
   ],
   "source": [
    "best_param = xgb_grid_co2.best_params_\n",
    "\n",
    "for i in best_param:\n",
    "  best_param[i] = list([best_param[i]])\n",
    "\n",
    "joblib.dump(best_param, 'best_param_xgb_CO2.sav')"
   ]
  },
  {
   "cell_type": "code",
   "execution_count": 178,
   "metadata": {},
   "outputs": [],
   "source": [
    "#load saved model\n",
    "# best_param = joblib.load(best_param_xgb_CO2.sav)"
   ]
  },
  {
   "cell_type": "markdown",
   "metadata": {},
   "source": [
    "#### <span style='color:blue'> 5.Influence de la variable 'ENERGY STAR Score </span>"
   ]
  },
  {
   "cell_type": "markdown",
   "metadata": {},
   "source": [
    "Nous cherchons en particulier à évaluer l'intérêt de l’'ENERGY STAR Score' (www.energystar.gov) pour la prédiction d’émissions, qui est fastidieux à calculer avec l’approche utilisée actuellement par l'équipe."
   ]
  },
  {
   "cell_type": "markdown",
   "metadata": {},
   "source": [
    "Nous allons donc évaluer si ce score à un impact significatif sur les performances de notre modélisation."
   ]
  },
  {
   "cell_type": "code",
   "execution_count": 179,
   "metadata": {},
   "outputs": [],
   "source": [
    "X_enS = X.copy()"
   ]
  },
  {
   "cell_type": "code",
   "execution_count": 180,
   "metadata": {},
   "outputs": [],
   "source": [
    "#Ajout de 'ENERGYSTARScore' aux variables X\n",
    "X_enS['energy_star_score'] = energy_star_score"
   ]
  },
  {
   "cell_type": "code",
   "execution_count": 181,
   "metadata": {},
   "outputs": [],
   "source": [
    "y_enS = data_clean[['SiteEnergyUse(kBtu)','TotalGHGEmissions']]"
   ]
  },
  {
   "cell_type": "code",
   "execution_count": 182,
   "metadata": {},
   "outputs": [
    {
     "data": {
      "text/html": [
       "<div>\n",
       "<style scoped>\n",
       "    .dataframe tbody tr th:only-of-type {\n",
       "        vertical-align: middle;\n",
       "    }\n",
       "\n",
       "    .dataframe tbody tr th {\n",
       "        vertical-align: top;\n",
       "    }\n",
       "\n",
       "    .dataframe thead th {\n",
       "        text-align: right;\n",
       "    }\n",
       "</style>\n",
       "<table border=\"1\" class=\"dataframe\">\n",
       "  <thead>\n",
       "    <tr style=\"text-align: right;\">\n",
       "      <th></th>\n",
       "      <th>NumberofBuildings</th>\n",
       "      <th>NumberofFloors</th>\n",
       "      <th>PropertyGFABuilding(s)</th>\n",
       "      <th>Latitude</th>\n",
       "      <th>Longitude</th>\n",
       "      <th>BuildingAge</th>\n",
       "      <th>PropertyGFAParkingbool</th>\n",
       "      <th>x0_Education</th>\n",
       "      <th>x0_Food Sales &amp; Service</th>\n",
       "      <th>x0_Healthcare</th>\n",
       "      <th>x0_Lodging/Residential</th>\n",
       "      <th>x0_Mixed Use</th>\n",
       "      <th>x0_Office</th>\n",
       "      <th>x0_Other</th>\n",
       "      <th>x0_Public Assembly</th>\n",
       "      <th>x0_Retail</th>\n",
       "      <th>x0_Technology/Science</th>\n",
       "      <th>x0_Warehouse</th>\n",
       "      <th>x0_Warehouse/Storage</th>\n",
       "      <th>energy_star_score</th>\n",
       "    </tr>\n",
       "  </thead>\n",
       "  <tbody>\n",
       "    <tr>\n",
       "      <th>0</th>\n",
       "      <td>-0.065008</td>\n",
       "      <td>0.654731</td>\n",
       "      <td>0.000832</td>\n",
       "      <td>-0.183604</td>\n",
       "      <td>-0.165021</td>\n",
       "      <td>1.67041</td>\n",
       "      <td>1.0</td>\n",
       "      <td>0.0</td>\n",
       "      <td>0.0</td>\n",
       "      <td>0.0</td>\n",
       "      <td>0.0</td>\n",
       "      <td>0.0</td>\n",
       "      <td>1.0</td>\n",
       "      <td>0.0</td>\n",
       "      <td>0.0</td>\n",
       "      <td>0.0</td>\n",
       "      <td>0.0</td>\n",
       "      <td>0.0</td>\n",
       "      <td>0.0</td>\n",
       "      <td>45.0</td>\n",
       "    </tr>\n",
       "  </tbody>\n",
       "</table>\n",
       "</div>"
      ],
      "text/plain": [
       "   NumberofBuildings  NumberofFloors  PropertyGFABuilding(s)  Latitude  \\\n",
       "0          -0.065008        0.654731                0.000832 -0.183604   \n",
       "\n",
       "   Longitude  BuildingAge  PropertyGFAParkingbool  x0_Education  \\\n",
       "0  -0.165021      1.67041                     1.0           0.0   \n",
       "\n",
       "   x0_Food Sales & Service  x0_Healthcare  x0_Lodging/Residential  \\\n",
       "0                      0.0            0.0                     0.0   \n",
       "\n",
       "   x0_Mixed Use  x0_Office  x0_Other  x0_Public Assembly  x0_Retail  \\\n",
       "0           0.0        1.0       0.0                 0.0        0.0   \n",
       "\n",
       "   x0_Technology/Science  x0_Warehouse  x0_Warehouse/Storage  \\\n",
       "0                    0.0           0.0                   0.0   \n",
       "\n",
       "   energy_star_score  \n",
       "0               45.0  "
      ]
     },
     "execution_count": 182,
     "metadata": {},
     "output_type": "execute_result"
    }
   ],
   "source": [
    "X_enS.head(1)"
   ]
  },
  {
   "cell_type": "markdown",
   "metadata": {},
   "source": [
    "#### <span style='color:darkviolet'>Standardisation de ENERGYSTARScore </span>"
   ]
  },
  {
   "cell_type": "code",
   "execution_count": 183,
   "metadata": {},
   "outputs": [],
   "source": [
    "col_names = ['energy_star_score']\n",
    "features = X_enS[col_names]"
   ]
  },
  {
   "cell_type": "code",
   "execution_count": 184,
   "metadata": {},
   "outputs": [],
   "source": [
    "scaler = StandardScaler().fit(features.values)\n",
    "features = scaler.transform(features.values)"
   ]
  },
  {
   "cell_type": "code",
   "execution_count": 185,
   "metadata": {},
   "outputs": [],
   "source": [
    "X_enS[col_names] = features"
   ]
  },
  {
   "cell_type": "code",
   "execution_count": 186,
   "metadata": {},
   "outputs": [
    {
     "name": "stdout",
     "output_type": "stream",
     "text": [
      "Entrainement: 1247 lignes,\n",
      "Test: 312 lignes.\n",
      "\n"
     ]
    }
   ],
   "source": [
    "X_enS_train, X_enS_test, y_enS_train, y_enS_test = train_test_split(X_enS,y_enS['TotalGHGEmissions'], test_size=0.20,random_state=42)\n",
    "\n",
    "\n",
    "print(\"Entrainement: {} lignes,\\nTest: {} lignes.\\n\".format(X_enS_train.shape[0],\n",
    "                                                            X_enS_test.shape[0]))"
   ]
  },
  {
   "cell_type": "markdown",
   "metadata": {},
   "source": [
    "On utilise ici le meilleur modèle calculé sur la variable TotalGHGEmissions en incluant l'ENERGY STAR Score :"
   ]
  },
  {
   "cell_type": "code",
   "execution_count": 187,
   "metadata": {},
   "outputs": [
    {
     "name": "stdout",
     "output_type": "stream",
     "text": [
      "Fitting 5 folds for each of 60 candidates, totalling 300 fits\n"
     ]
    },
    {
     "data": {
      "text/plain": [
       "GridSearchCV(cv=5, estimator=GradientBoostingRegressor(random_state=42),\n",
       "             n_jobs=-1,\n",
       "             param_grid={'criterion': ['mse'], 'loss': ['ls', 'lad'],\n",
       "                         'max_features': ['auto', 'sqrt'],\n",
       "                         'min_samples_leaf': [1, 2, 5, 8, 12],\n",
       "                         'n_estimators': [100, 200, 300]},\n",
       "             scoring='neg_root_mean_squared_error', verbose=5)"
      ]
     },
     "execution_count": 187,
     "metadata": {},
     "output_type": "execute_result"
    }
   ],
   "source": [
    "Parameters = {\n",
    "    'loss': ['ls'],\n",
    "    'n_estimators': [300],\n",
    "    'min_samples_leaf': [1],\n",
    "    'max_features': ['auto'],\n",
    "    'criterion': ['mse'],\n",
    "}\n",
    "\n",
    "xgb_grid_star = GridSearchCV(GradientBoostingRegressor(random_state=42),\n",
    "                        param_grid = parameters,\n",
    "                        scoring='neg_root_mean_squared_error',\n",
    "                        n_jobs = -1,\n",
    "                        cv = 5,\n",
    "                        verbose=5)\n",
    "\n",
    "xgb_grid_star.fit(X_enS_train, y_enS_train)"
   ]
  },
  {
   "cell_type": "code",
   "execution_count": 188,
   "metadata": {},
   "outputs": [],
   "source": [
    "coefficients = abs(xgb_grid_star.best_estimator_.feature_importances_)\n",
    "liste_coefs_rer = pd.concat((pd.DataFrame(X_enS.columns, columns = ['Variable']), \n",
    "                      pd.DataFrame(coefficients, columns = ['Coefficient'])),\n",
    "                       axis = 1).sort_values(by='Coefficient',\n",
    "                                             ascending = False)"
   ]
  },
  {
   "cell_type": "code",
   "execution_count": 189,
   "metadata": {},
   "outputs": [
    {
     "data": {
      "image/png": "[encoded data removed]",
      "text/plain": [
       "<Figure size 576x576 with 1 Axes>"
      ]
     },
     "metadata": {
      "needs_background": "light"
     },
     "output_type": "display_data"
    }
   ],
   "source": [
    "plt.figure(figsize=(8,8))\n",
    "plt.title('XGBoost - Importance des 20 premières Features')\n",
    "sns.barplot(y = liste_coefs_rer['Variable'].head(20),\n",
    "            x = liste_coefs_rer['Coefficient'].head(20))\n",
    "plt.show()"
   ]
  },
  {
   "cell_type": "code",
   "execution_count": 190,
   "metadata": {},
   "outputs": [
    {
     "name": "stdout",
     "output_type": "stream",
     "text": [
      "1.38 ms ± 15.9 µs per loop (mean ± std. dev. of 7 runs, 1000 loops each)\n"
     ]
    }
   ],
   "source": [
    "Energy_Star = pd.DataFrame({})\n",
    "\n",
    "rmse = mean_squared_error(y_enS_test, xgb_grid_star.predict(X_enS_test), squared=False)\n",
    "mae = mean_absolute_error(y_enS_test, xgb_grid_star.predict(X_enS_test))\n",
    "r_squared = r2_score(y_enS_test, xgb_grid_star.predict(X_enS_test))\n",
    "time = %timeit -o  xgb_grid_star.best_estimator_.predict(X_enS_test)\n",
    "\n",
    "emissions_CO2 = emissions_CO2.append(pd.DataFrame({'Modèle': ['XGBoost_Energy_Star'],\n",
    "                                       'RMSE': rmse,\n",
    "                                       'MAE': mae,\n",
    "                                       'R²': r_squared,\n",
    "                                       'Time_ms': time.best*1000,\n",
    "                    'Cv_score(RMSE)': -1 * xgb_grid_star.best_score_}),\n",
    "                         ignore_index=True)"
   ]
  },
  {
   "cell_type": "code",
   "execution_count": 191,
   "metadata": {},
   "outputs": [
    {
     "data": {
      "text/html": [
       "<div>\n",
       "<style scoped>\n",
       "    .dataframe tbody tr th:only-of-type {\n",
       "        vertical-align: middle;\n",
       "    }\n",
       "\n",
       "    .dataframe tbody tr th {\n",
       "        vertical-align: top;\n",
       "    }\n",
       "\n",
       "    .dataframe thead th {\n",
       "        text-align: right;\n",
       "    }\n",
       "</style>\n",
       "<table border=\"1\" class=\"dataframe\">\n",
       "  <thead>\n",
       "    <tr style=\"text-align: right;\">\n",
       "      <th></th>\n",
       "      <th>Modèle</th>\n",
       "      <th>RMSE</th>\n",
       "      <th>MAE</th>\n",
       "      <th>R²</th>\n",
       "      <th>Time_ms</th>\n",
       "      <th>Cv_score(RMSE)</th>\n",
       "    </tr>\n",
       "  </thead>\n",
       "  <tbody>\n",
       "    <tr>\n",
       "      <th>0</th>\n",
       "      <td>Random Forest Regressor</td>\n",
       "      <td>0.967798</td>\n",
       "      <td>0.757492</td>\n",
       "      <td>0.452019</td>\n",
       "      <td>33.908550</td>\n",
       "      <td>0.943510</td>\n",
       "    </tr>\n",
       "    <tr>\n",
       "      <th>1</th>\n",
       "      <td>XGBoost</td>\n",
       "      <td>1.004343</td>\n",
       "      <td>0.765163</td>\n",
       "      <td>0.409853</td>\n",
       "      <td>1.289430</td>\n",
       "      <td>0.940137</td>\n",
       "    </tr>\n",
       "    <tr>\n",
       "      <th>2</th>\n",
       "      <td>SVR</td>\n",
       "      <td>1.032626</td>\n",
       "      <td>0.808189</td>\n",
       "      <td>0.376147</td>\n",
       "      <td>24.941490</td>\n",
       "      <td>0.952074</td>\n",
       "    </tr>\n",
       "    <tr>\n",
       "      <th>3</th>\n",
       "      <td>LinearRegression</td>\n",
       "      <td>1.123046</td>\n",
       "      <td>0.888573</td>\n",
       "      <td>0.262111</td>\n",
       "      <td>0.597614</td>\n",
       "      <td>0.978264</td>\n",
       "    </tr>\n",
       "    <tr>\n",
       "      <th>4</th>\n",
       "      <td>XGBoost_Energy_Star</td>\n",
       "      <td>0.923717</td>\n",
       "      <td>0.731056</td>\n",
       "      <td>0.500800</td>\n",
       "      <td>1.363589</td>\n",
       "      <td>0.862378</td>\n",
       "    </tr>\n",
       "  </tbody>\n",
       "</table>\n",
       "</div>"
      ],
      "text/plain": [
       "                    Modèle      RMSE       MAE        R²    Time_ms  \\\n",
       "0  Random Forest Regressor  0.967798  0.757492  0.452019  33.908550   \n",
       "1                  XGBoost  1.004343  0.765163  0.409853   1.289430   \n",
       "2                      SVR  1.032626  0.808189  0.376147  24.941490   \n",
       "3         LinearRegression  1.123046  0.888573  0.262111   0.597614   \n",
       "4      XGBoost_Energy_Star  0.923717  0.731056  0.500800   1.363589   \n",
       "\n",
       "   Cv_score(RMSE)  \n",
       "0        0.943510  \n",
       "1        0.940137  \n",
       "2        0.952074  \n",
       "3        0.978264  \n",
       "4        0.862378  "
      ]
     },
     "execution_count": 191,
     "metadata": {},
     "output_type": "execute_result"
    }
   ],
   "source": [
    "emissions_CO2"
   ]
  },
  {
   "cell_type": "code",
   "execution_count": 192,
   "metadata": {},
   "outputs": [
    {
     "data": {
      "text/html": [
       "<div>\n",
       "<style scoped>\n",
       "    .dataframe tbody tr th:only-of-type {\n",
       "        vertical-align: middle;\n",
       "    }\n",
       "\n",
       "    .dataframe tbody tr th {\n",
       "        vertical-align: top;\n",
       "    }\n",
       "\n",
       "    .dataframe thead th {\n",
       "        text-align: right;\n",
       "    }\n",
       "</style>\n",
       "<table border=\"1\" class=\"dataframe\">\n",
       "  <thead>\n",
       "    <tr style=\"text-align: right;\">\n",
       "      <th></th>\n",
       "      <th>Modèle</th>\n",
       "      <th>RMSE</th>\n",
       "      <th>MAE</th>\n",
       "      <th>R²</th>\n",
       "      <th>Time_ms</th>\n",
       "      <th>Cv_score(RMSE)</th>\n",
       "    </tr>\n",
       "  </thead>\n",
       "  <tbody>\n",
       "    <tr>\n",
       "      <th>4</th>\n",
       "      <td>XGBoost_Energy_Star</td>\n",
       "      <td>0.923717</td>\n",
       "      <td>0.731056</td>\n",
       "      <td>0.500800</td>\n",
       "      <td>1.363589</td>\n",
       "      <td>0.862378</td>\n",
       "    </tr>\n",
       "    <tr>\n",
       "      <th>0</th>\n",
       "      <td>Random Forest Regressor</td>\n",
       "      <td>0.967798</td>\n",
       "      <td>0.757492</td>\n",
       "      <td>0.452019</td>\n",
       "      <td>33.908550</td>\n",
       "      <td>0.943510</td>\n",
       "    </tr>\n",
       "    <tr>\n",
       "      <th>1</th>\n",
       "      <td>XGBoost</td>\n",
       "      <td>1.004343</td>\n",
       "      <td>0.765163</td>\n",
       "      <td>0.409853</td>\n",
       "      <td>1.289430</td>\n",
       "      <td>0.940137</td>\n",
       "    </tr>\n",
       "    <tr>\n",
       "      <th>2</th>\n",
       "      <td>SVR</td>\n",
       "      <td>1.032626</td>\n",
       "      <td>0.808189</td>\n",
       "      <td>0.376147</td>\n",
       "      <td>24.941490</td>\n",
       "      <td>0.952074</td>\n",
       "    </tr>\n",
       "    <tr>\n",
       "      <th>3</th>\n",
       "      <td>LinearRegression</td>\n",
       "      <td>1.123046</td>\n",
       "      <td>0.888573</td>\n",
       "      <td>0.262111</td>\n",
       "      <td>0.597614</td>\n",
       "      <td>0.978264</td>\n",
       "    </tr>\n",
       "  </tbody>\n",
       "</table>\n",
       "</div>"
      ],
      "text/plain": [
       "                    Modèle      RMSE       MAE        R²    Time_ms  \\\n",
       "4      XGBoost_Energy_Star  0.923717  0.731056  0.500800   1.363589   \n",
       "0  Random Forest Regressor  0.967798  0.757492  0.452019  33.908550   \n",
       "1                  XGBoost  1.004343  0.765163  0.409853   1.289430   \n",
       "2                      SVR  1.032626  0.808189  0.376147  24.941490   \n",
       "3         LinearRegression  1.123046  0.888573  0.262111   0.597614   \n",
       "\n",
       "   Cv_score(RMSE)  \n",
       "4        0.862378  \n",
       "0        0.943510  \n",
       "1        0.940137  \n",
       "2        0.952074  \n",
       "3        0.978264  "
      ]
     },
     "execution_count": 192,
     "metadata": {},
     "output_type": "execute_result"
    }
   ],
   "source": [
    "emissions_CO2 = emissions_CO2.sort_values(by='R²', ascending=False)\n",
    "emissions_CO2"
   ]
  },
  {
   "cell_type": "markdown",
   "metadata": {},
   "source": [
    "En ajoutant Energy Star Score à notre modèle, la performance du modèle s'améliore très légèrement."
   ]
  },
  {
   "cell_type": "code",
   "execution_count": null,
   "metadata": {},
   "outputs": [],
   "source": []
  }
 ],
 "metadata": {
  "kernelspec": {
   "display_name": "Python 3 (ipykernel)",
   "language": "python",
   "name": "python3"
  },
  "language_info": {
   "codemirror_mode": {
    "name": "ipython",
    "version": 3
   },
   "file_extension": ".py",
   "mimetype": "text/x-python",
   "name": "python",
   "nbconvert_exporter": "python",
   "pygments_lexer": "ipython3",
   "version": "3.9.7"
  }
 },
 "nbformat": 4,
 "nbformat_minor": 4
}
